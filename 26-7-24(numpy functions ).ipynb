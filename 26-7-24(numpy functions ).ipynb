{
 "cells": [
  {
   "cell_type": "code",
   "execution_count": 7,
   "id": "e237ca65-685a-4907-a648-14153557d38f",
   "metadata": {},
   "outputs": [
    {
     "name": "stdout",
     "output_type": "stream",
     "text": [
      "(array([3, 4], dtype=int64),)\n"
     ]
    }
   ],
   "source": [
    "# Where  function \n",
    "# syntax :- numpy.where(condition,x,y)\n",
    "import numpy as np\n",
    "arr=np.array([1,2,3,4,5])\n",
    "arr1=np.where(arr>3)\n",
    "print(arr1)"
   ]
  },
  {
   "cell_type": "code",
   "execution_count": 13,
   "id": "ee9fa697-93ad-4332-ab1e-2471f5b4c558",
   "metadata": {},
   "outputs": [
    {
     "name": "stdout",
     "output_type": "stream",
     "text": [
      "[[1 4]\n",
      " [2 5]\n",
      " [3 6]]\n"
     ]
    }
   ],
   "source": [
    "# # Transpose \n",
    "# np.transpose is used to transpose or premute the dimension of an array . it swaps rows and columns\n",
    "arr=np.array([[1,2,3],[4,5,6]])\n",
    "transposed_arr=np.transpose(arr)\n",
    "print(transposed_arr)"
   ]
  },
  {
   "cell_type": "code",
   "execution_count": 17,
   "id": "60984f9d-4228-4d80-830b-b0d98ffd1970",
   "metadata": {},
   "outputs": [
    {
     "name": "stdout",
     "output_type": "stream",
     "text": [
      "3.0\n"
     ]
    }
   ],
   "source": [
    "# Mean \n",
    "# np.mean() calculates the mean (average) value of the elemenst in an array along specified axis \n",
    "\n",
    "arr=np.array([1,2,3,4,5])\n",
    "mean_value=np.mean(arr)\n",
    "print(mean_value)"
   ]
  },
  {
   "cell_type": "code",
   "execution_count": 19,
   "id": "9307522f-c592-47c5-8590-8b31621c9d48",
   "metadata": {},
   "outputs": [
    {
     "data": {
      "text/plain": [
       "' these functions are used to find the indices of the minimum and maximum number of the array '"
      ]
     },
     "execution_count": 19,
     "metadata": {},
     "output_type": "execute_result"
    }
   ],
   "source": [
    "# np.argmax()  np.argmin() \n",
    "''' these functions are used to find the indices of the minimum and maximum number of the array '''"
   ]
  },
  {
   "cell_type": "code",
   "execution_count": 21,
   "id": "6a392a26-9904-49c1-b255-80b463d2607c",
   "metadata": {},
   "outputs": [
    {
     "name": "stdout",
     "output_type": "stream",
     "text": [
      "index to insert 6 3\n"
     ]
    }
   ],
   "source": [
    "# searchsorted()\n",
    "\n",
    "'''the np.searchsort() function is used to find the indices at which the elements should be inserted to mainitain the array's sorted order\n",
    ". it is opften used for binary searching in sorted arrays '''\n",
    "\n",
    "sorted_array=np.array([1,3,5,7,9])\n",
    "index=np.searchsorted(sorted_array,6)\n",
    "print(\"index to insert 6\",index)\n"
   ]
  },
  {
   "cell_type": "code",
   "execution_count": null,
   "id": "7e34b2cf-812f-4d24-bda1-40d91af234ab",
   "metadata": {},
   "outputs": [],
   "source": [
    "# extract \n",
    "'''  the np.extract() function is used to extraxt  the element from an array that satisy a given conditon '''\n",
    "\n",
    "arr="
   ]
  }
 ],
 "metadata": {
  "kernelspec": {
   "display_name": "Python 3 (ipykernel)",
   "language": "python",
   "name": "python3"
  },
  "language_info": {
   "codemirror_mode": {
    "name": "ipython",
    "version": 3
   },
   "file_extension": ".py",
   "mimetype": "text/x-python",
   "name": "python",
   "nbconvert_exporter": "python",
   "pygments_lexer": "ipython3",
   "version": "3.12.4"
  }
 },
 "nbformat": 4,
 "nbformat_minor": 5
}
