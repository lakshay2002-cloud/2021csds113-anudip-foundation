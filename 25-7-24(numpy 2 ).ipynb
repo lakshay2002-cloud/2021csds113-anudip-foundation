{
 "cells": [
  {
   "cell_type": "code",
   "execution_count": 5,
   "id": "d8696265-1554-4bbc-b73c-2159226ec222",
   "metadata": {},
   "outputs": [
    {
     "name": "stdout",
     "output_type": "stream",
     "text": [
      "[1 5 6]\n"
     ]
    }
   ],
   "source": [
    "import numpy as np \n",
    "c=np.array([[1,2,3],[4,5,6],[4,5,6]])\n",
    "print(np.diag(c))"
   ]
  },
  {
   "cell_type": "code",
   "execution_count": 7,
   "id": "9ab15cd9-a46e-47c8-9420-538fa6aaeefb",
   "metadata": {},
   "outputs": [
    {
     "name": "stdout",
     "output_type": "stream",
     "text": [
      "[1 5 6]\n",
      "[[3 0 0]\n",
      " [0 9 0]\n",
      " [0 0 5]]\n"
     ]
    }
   ],
   "source": [
    "import numpy as np \n",
    "c=np.array([[1,2,3],[4,5,6],[4,5,6]])\n",
    "print(np.diag(c))\n",
    "\n",
    "\n",
    "print(np.diag((3,9,5)))"
   ]
  },
  {
   "cell_type": "code",
   "execution_count": null,
   "id": "8edcd1ab-3817-45c5-9c8a-d6d60a0a2e41",
   "metadata": {},
   "outputs": [],
   "source": [
    "# randint() is an ibuilt function of the random module in python 3 . the random module gives access to various useful functuon one of the them being able to generate random numbers , which is randint() "
   ]
  },
  {
   "cell_type": "code",
   "execution_count": 13,
   "id": "0d0a9089-8579-4730-ba7b-163e3b2be261",
   "metadata": {},
   "outputs": [
    {
     "name": "stdout",
     "output_type": "stream",
     "text": [
      "[4 8 6 1 7 4]\n"
     ]
    }
   ],
   "source": [
    "rand=np.random.randint(1,10,6)\n",
    "print(rand)"
   ]
  },
  {
   "cell_type": "code",
   "execution_count": null,
   "id": "e15c3cd5-60b2-46eb-9a76-fd0d5fff6c2e",
   "metadata": {},
   "outputs": [],
   "source": [
    "# this function generates an array of specified shape and fills it with random samples from a uniform distriubution over the interval[0,1)"
   ]
  },
  {
   "cell_type": "code",
   "execution_count": 21,
   "id": "473ccf8d-7720-48c2-bb2b-2630041815c3",
   "metadata": {},
   "outputs": [
    {
     "name": "stdout",
     "output_type": "stream",
     "text": [
      "[0.59094488 0.29439114 0.05520265 0.21535927]\n"
     ]
    }
   ],
   "source": [
    "rand=np.random.rand(4)\n",
    "print(rand)"
   ]
  },
  {
   "cell_type": "code",
   "execution_count": 23,
   "id": "e36f0c68-b5c5-43ef-9d21-ddb34744f9d5",
   "metadata": {},
   "outputs": [
    {
     "name": "stdout",
     "output_type": "stream",
     "text": [
      "[[0.44854091 0.21716783 0.85181952]\n",
      " [0.30219008 0.92127796 0.34948406]]\n"
     ]
    }
   ],
   "source": [
    "rand=np.random.rand(2,3)\n",
    "print(rand)"
   ]
  },
  {
   "cell_type": "code",
   "execution_count": 49,
   "id": "35bd98fc-ed9e-41e1-822a-cf90aff550fd",
   "metadata": {},
   "outputs": [
    {
     "name": "stdout",
     "output_type": "stream",
     "text": [
      "[7 7 4 8 1 1]\n",
      "[[7 7 4]\n",
      " [8 1 1]]\n"
     ]
    }
   ],
   "source": [
    "arr=np.random.randint(1,10,6)\n",
    "print(arr)\n",
    "arr=arr.reshape(2,3)\n",
    "print(arr)"
   ]
  },
  {
   "cell_type": "code",
   "execution_count": 31,
   "id": "80194911-2d33-4e7a-9187-2c9bbf7db333",
   "metadata": {},
   "outputs": [],
   "source": [
    "# the reshape function in numpy allow you to change the shape (dimension) of an array without changing its data . this can be usefull when u want to rearrange the way daya is organized in an array , such as converting a \n",
    "# 1-dimension array into a 2 dinmensionl matrix or vice cversa or changing the size of a multi-dimensional array maintaining the total number of elements "
   ]
  },
  {
   "cell_type": "code",
   "execution_count": 35,
   "id": "76d6aef5-08a9-48e1-8b25-ce62c7409fec",
   "metadata": {},
   "outputs": [
    {
     "name": "stdout",
     "output_type": "stream",
     "text": [
      "[45 92 83 21 84 33 26 86 85 30 51 79]\n",
      "[[45 92 83]\n",
      " [21 84 33]\n",
      " [26 86 85]\n",
      " [30 51 79]]\n",
      "Array value is  92\n",
      "Array value is  21\n",
      "(4, 3)\n",
      "[[45 92 83 21]\n",
      " [84 33 26 86]\n",
      " [85 30 51 79]]\n",
      "[[45 92 83 21 84 33]\n",
      " [26 86 85 30 51 79]]\n"
     ]
    }
   ],
   "source": [
    "arr=np.random.randint(0,100,12)\n",
    "print(arr)\n",
    "arr=arr.reshape(4,3)\n",
    "print(arr)\n",
    "print(\"Array value is \",arr[0][1])\n",
    "print(\"Array value is \", arr[1][0])\n",
    "print(arr.shape)\n",
    "arr=arr.reshape(-1,4)\n",
    "print(arr)\n",
    "arr=arr.reshape(2,-1)\n",
    "print(arr)"
   ]
  },
  {
   "cell_type": "code",
   "execution_count": 55,
   "id": "ee6c37c3-1dc6-4da6-adc2-fb3ad173fdd6",
   "metadata": {},
   "outputs": [
    {
     "name": "stdout",
     "output_type": "stream",
     "text": [
      "[37 86 87 18 90 69  8 53 33 32 40 26]\n"
     ]
    }
   ],
   "source": [
    "np.random.seed(145)\n",
    "arr=np.random.randint(0,100,12)\n",
    "print(arr)"
   ]
  },
  {
   "cell_type": "code",
   "execution_count": 69,
   "id": "19030dd4-cbdf-4baa-9dba-ed51364eaad8",
   "metadata": {},
   "outputs": [
    {
     "name": "stdout",
     "output_type": "stream",
     "text": [
      "[[ 37 106 379 470 471]\n",
      " [146  90 453   8 309]\n",
      " [289 242 160 168 154]\n",
      " [468 101  29  10 111]\n",
      " [109   8 473  33 390]\n",
      " [279 390 365 168 322]]\n"
     ]
    }
   ],
   "source": [
    "np.random.seed(145)\n",
    "arr=np.random.randint(0,500,30).reshape(6,5)\n",
    "print(arr)"
   ]
  },
  {
   "cell_type": "code",
   "execution_count": 71,
   "id": "8ee9d8d7-61fd-41ee-b312-3586bbfd6c31",
   "metadata": {},
   "outputs": [
    {
     "name": "stdout",
     "output_type": "stream",
     "text": [
      "[[160 168 154]\n",
      " [ 29  10 111]\n",
      " [473  33 390]\n",
      " [365 168 322]]\n",
      "[[ 29  10]\n",
      " [473  33]]\n"
     ]
    }
   ],
   "source": [
    "print(arr[2:,2:])\n",
    "print(arr[3:5,2:4])"
   ]
  },
  {
   "cell_type": "code",
   "execution_count": 79,
   "id": "3ab0acb4-4498-44dd-905e-8e734f8ef4d5",
   "metadata": {},
   "outputs": [
    {
     "name": "stdout",
     "output_type": "stream",
     "text": [
      "new slicing [3 4 5 6 2]\n",
      "new array [   1   20    5    9    3    4    5    6    2   25    2 2265    3   33]\n",
      "<class 'numpy.ndarray'>\n",
      "<class 'numpy.ndarray'>\n",
      "old slicing [0 0 0 0 0]\n",
      "old array [[ 37 106 379 470 471]\n",
      " [146  90 453   8 309]\n",
      " [289 242 160 168 154]\n",
      " [468 101  29  10 111]\n",
      " [109   8 473  33 390]\n",
      " [279 390 365 168 322]]\n"
     ]
    }
   ],
   "source": [
    "ar=np.array([1,20,5,9,3,4,5,6,2,25,2,2265,3,33])\n",
    "slicing=ar[4:9]\n",
    "print(\"new slicing\",slicing)\n",
    "print(\"new array\",ar)\n",
    "print(type(slicing))\n",
    "print(type(ar))\n",
    "slicing[:]=0\n",
    "print(\"old slicing\",slicing)\n",
    "print(\"old array\",arr)"
   ]
  },
  {
   "cell_type": "code",
   "execution_count": 83,
   "id": "5111b962-be9b-40fc-97f6-e6339c317c8a",
   "metadata": {},
   "outputs": [
    {
     "name": "stdout",
     "output_type": "stream",
     "text": [
      "[ 1  2  3  4  5  6  7  8  9 10 11 12 13 14]\n",
      "[ 2  4  6  8 10 12 14]\n"
     ]
    }
   ],
   "source": [
    "ar=np.arange(1,15)\n",
    "print(ar)\n",
    "print(ar[ar%2==0])"
   ]
  },
  {
   "cell_type": "code",
   "execution_count": 85,
   "id": "30253875-ecb1-47c4-8149-b9bdde19fde9",
   "metadata": {},
   "outputs": [
    {
     "name": "stdout",
     "output_type": "stream",
     "text": [
      "[ 1  2  3  4  5  6  7  8  9 10 11 12 13 14]\n",
      "[ 1  3  5  7  9 11 13]\n"
     ]
    }
   ],
   "source": [
    "ar=np.arange(1,15)\n",
    "print(ar)\n",
    "print(ar[ar%2!=0])"
   ]
  },
  {
   "cell_type": "code",
   "execution_count": 91,
   "id": "d1cdb4e7-7d9d-440b-9b6a-390d267e124a",
   "metadata": {},
   "outputs": [
    {
     "name": "stdout",
     "output_type": "stream",
     "text": [
      "[ 1  2  3  4  5  6  7  8  9 10 11 12 13 14]\n",
      "[ 2  4  6  8 10 12 14]\n",
      "[ 1  3  5  7  9 11 13]\n",
      "[ 9 10 11 12 13 14]\n",
      "[ 1  0  3  0  5  0  7  0  9  0 11  0 13  0]\n",
      "[3 4 5 6 7 8 9]\n",
      "[ 2  4  6  8 10 12 14]\n",
      "[ 1  4  9 16 25 36 49]\n"
     ]
    }
   ],
   "source": [
    "ar=np.arange(1,15)\n",
    "print(ar)\n",
    "print(ar[ar%2==0])\n",
    "print(ar[ar%2!=0])\n",
    "print(ar[ar>8])\n",
    "ar[ar%2==0]=0\n",
    "print(ar)\n",
    "\n",
    "arr=np.arange(1,8)\n",
    "\n",
    "print(arr+2)\n",
    "print(arr*2)\n",
    "print(arr**2)"
   ]
  },
  {
   "cell_type": "code",
   "execution_count": 93,
   "id": "a12f242f-33ea-42c2-a0f9-9d1fe21f447c",
   "metadata": {},
   "outputs": [
    {
     "name": "stdout",
     "output_type": "stream",
     "text": [
      "2\n",
      "30\n",
      "5\n",
      "2\n",
      "[3.16227766 4.47213595 5.47722558 5.         2.44948974 1.41421356]\n",
      "[-0.54402111  0.91294525 -0.98803162 -0.13235175 -0.2794155   0.90929743]\n",
      "[-0.54402111  0.91294525 -0.98803162 -0.13235175 -0.2794155   0.90929743]\n",
      "[-0.83907153  0.40808206  0.15425145  0.99120281  0.96017029 -0.41614684]\n"
     ]
    }
   ],
   "source": [
    "arr=np.array([10,20,30,25,6,2])\n",
    "print(np.min(arr))\n",
    "print(np.max(arr))\n",
    "print(np.argmin(arr))\n",
    "print(np.argmax(arr))\n",
    "print(np.sqrt(arr))\n",
    "print(np.sin(arr))\n",
    "print(np.sin(arr))\n",
    "print(np.cos(arr))"
   ]
  },
  {
   "cell_type": "code",
   "execution_count": 101,
   "id": "c987d7a3-9794-45fe-9627-fd0d164a5eaa",
   "metadata": {},
   "outputs": [
    {
     "name": "stdout",
     "output_type": "stream",
     "text": [
      "[[16 11 13]\n",
      " [17 13 16]\n",
      " [ 3 16 11]]\n",
      "116\n",
      "[ 16  27  40  57  70  86  89 105 116]\n",
      "3\n",
      "17\n",
      "[40 46 30]\n",
      "[11 13  3]\n",
      "[16 17 16]\n",
      "[[16 27 40]\n",
      " [17 30 46]\n",
      " [ 3 19 30]]\n"
     ]
    }
   ],
   "source": [
    "np.random.seed(122)\n",
    "mat=np.random.randint(1,21,9).reshape(3,3)\n",
    "print(mat)\n",
    "print(np.sum(mat))\n",
    "print(np.cumsum(mat))\n",
    "print(np.min(mat))\n",
    "print(np.max(mat))\n",
    "print(np.sum(mat,axis=1))\n",
    "print(np.min(mat,axis=1))\n",
    "print(np.max(mat,axis=1))\n",
    "print(np.cumsum(mat,axis=1))"
   ]
  },
  {
   "cell_type": "code",
   "execution_count": 105,
   "id": "645c46ef-4074-42a1-b0f8-52714a048527",
   "metadata": {},
   "outputs": [
    {
     "name": "stdout",
     "output_type": "stream",
     "text": [
      "[16 11 13 17 13 16  3 16 11 10]\n",
      "[13 16 16 11 16 10 11 13 17  3]\n",
      "(array([ 3, 10, 11, 13, 16, 17]), array([9, 5, 3, 0, 1, 8], dtype=int64), array([1, 1, 2, 2, 3, 1], dtype=int64))\n",
      "6\n"
     ]
    }
   ],
   "source": [
    "np.random.seed(122)\n",
    "mat=np.random.randint(1,21,10)\n",
    "print(mat)\n",
    "np.random.shuffle(mat)\n",
    "print(mat)\n",
    "print(np.unique(mat,return_index=True,return_counts=True))\n",
    "print(np.unique(mat).size)\n"
   ]
  },
  {
   "cell_type": "code",
   "execution_count": null,
   "id": "e43f1f9b-b64b-4584-b7c3-0f96eaaa38ce",
   "metadata": {},
   "outputs": [],
   "source": []
  }
 ],
 "metadata": {
  "kernelspec": {
   "display_name": "Python 3 (ipykernel)",
   "language": "python",
   "name": "python3"
  },
  "language_info": {
   "codemirror_mode": {
    "name": "ipython",
    "version": 3
   },
   "file_extension": ".py",
   "mimetype": "text/x-python",
   "name": "python",
   "nbconvert_exporter": "python",
   "pygments_lexer": "ipython3",
   "version": "3.12.4"
  }
 },
 "nbformat": 4,
 "nbformat_minor": 5
}
