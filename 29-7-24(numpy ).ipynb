{
 "cells": [
  {
   "cell_type": "code",
   "execution_count": 1,
   "id": "3a918740-4dab-4bfa-87cb-3ce3326a315b",
   "metadata": {},
   "outputs": [],
   "source": [
    "# mean \n",
    "import numpy as np \n"
   ]
  },
  {
   "cell_type": "code",
   "execution_count": 7,
   "id": "fe27256c-abe8-458b-9db3-421b6c2c076e",
   "metadata": {},
   "outputs": [
    {
     "name": "stdout",
     "output_type": "stream",
     "text": [
      "[1 2]\n",
      "[3 4]\n",
      "[5 6]\n"
     ]
    }
   ],
   "source": [
    "# np.slpit()\n",
    "arr=np.array([1,2,3,4,5,6]) \n",
    "sub_arrays=np.split(arr,3) \n",
    "for sub_arr in sub_arrays:\n",
    "    print(sub_arr)"
   ]
  },
  {
   "cell_type": "code",
   "execution_count": null,
   "id": "31c6ad6d-88d1-4011-8b13-df6e72110820",
   "metadata": {},
   "outputs": [],
   "source": [
    "'''In NumPy, you can use the np.sort() function to sort elements in an array along a specified axis. \n",
    "This function returns a sorted copy of the original array. \n",
    "Additionally, you can use the array.sort() method to sort an array in-place, modifying the original array. Here's how to use both approaches:'''"
   ]
  },
  {
   "cell_type": "code",
   "execution_count": 17,
   "id": "6068603d-04b3-45b2-8750-07a34653e8fc",
   "metadata": {},
   "outputs": [
    {
     "name": "stdout",
     "output_type": "stream",
     "text": [
      "Sorted array (ascending): [1 2 3 4 5]\n",
      "Sortedarray(descending): [5 4 3 2 1]\n"
     ]
    }
   ],
   "source": [
    "#np.sort()\n",
    "arr = np.array([3, 1, 2, 4, 5]) \n",
    "sorted_arr = np.sort(arr)\n",
    "print(\"Sorted array (ascending):\", sorted_arr)\n",
    "sorted_arr_desc = np.sort(arr)[::-1]\n",
    "#Printthesortedarrayindescendingorder \n",
    "print(\"Sortedarray(descending):\",sorted_arr_desc)"
   ]
  },
  {
   "cell_type": "code",
   "execution_count": 21,
   "id": "9db3cac7-ba5a-4aa5-a420-b367d5607d7f",
   "metadata": {},
   "outputs": [
    {
     "name": "stdout",
     "output_type": "stream",
     "text": [
      "Sorted matrix (ascending along rows):\n",
      "[[1 2 3]\n",
      " [4 5 6]]\n"
     ]
    }
   ],
   "source": [
    "#Sorting Along Specific Axis (For Multi-dimensional Arrays\n",
    "matrix=np.array([[3,1,2], [6,5,4]]) \n",
    "#Sort along rows (axis=1)in ascending order \n",
    "sorted_matrix=np.sort(matrix,axis=1)\n",
    "#Printthesortedmatrix \n",
    "print(\"Sorted matrix (ascending along rows):\") \n",
    "print(sorted_matrix)"
   ]
  },
  {
   "cell_type": "code",
   "execution_count": 23,
   "id": "5aa309c7-ca9d-41da-80d5-19d296dae01d",
   "metadata": {},
   "outputs": [
    {
     "data": {
      "text/plain": [
       "'The np.concatenate() function is used to join arrays along a specifiedaxis. \\nIttakesasequenceofarraysasinputandconcatenatesthemalongthe specifiedaxis.'"
      ]
     },
     "execution_count": 23,
     "metadata": {},
     "output_type": "execute_result"
    }
   ],
   "source": [
    "# np.concatenate():\n",
    "'''The np.concatenate() function is used to join arrays along a specifiedaxis. \n",
    "Ittakesasequenceofarraysasinputandconcatenatesthemalongthe specifiedaxis.'''\n"
   ]
  },
  {
   "cell_type": "code",
   "execution_count": 25,
   "id": "cb44dd4a-1b4c-4b07-8562-3d3aa52e7163",
   "metadata": {},
   "outputs": [
    {
     "name": "stdout",
     "output_type": "stream",
     "text": [
      "[[1 2]\n",
      " [3 4]\n",
      " [5 6]]\n"
     ]
    }
   ],
   "source": [
    "arr1=np.array([[1,2], [3,4]]) \n",
    "arr2=np.array([[5,6]]) \n",
    "\n",
    "result=np.concatenate((arr1,arr2),axis=0)\n",
    "\n",
    "print(result)"
   ]
  },
  {
   "cell_type": "code",
   "execution_count": 33,
   "id": "8bc437df-7496-4b5a-b8e5-527e50e6f2bd",
   "metadata": {},
   "outputs": [
    {
     "name": "stdout",
     "output_type": "stream",
     "text": [
      "[[1 2 5]\n",
      " [3 4 6]]\n"
     ]
    }
   ],
   "source": [
    "arr1=np.array([[1,2], [3,4]]) \n",
    "arr2=np.array([[5],[6]]) \n",
    "\n",
    "result=np.concatenate((arr1,arr2),axis=1)\n",
    "\n",
    "print(result)"
   ]
  },
  {
   "cell_type": "code",
   "execution_count": 37,
   "id": "badf97bb-06eb-4b58-8bf9-9c2f63fc6a10",
   "metadata": {},
   "outputs": [
    {
     "name": "stdout",
     "output_type": "stream",
     "text": [
      "[[1 2 3]\n",
      " [4 5 6]]\n"
     ]
    }
   ],
   "source": [
    "# .np.vstack()andnp.hstack(): \n",
    "# np.vstack():Stacksarraysvertically(alongrows).\n",
    "arr1=np.array([1,2,3])\n",
    "arr2=np.array([4,5,6]) \n",
    "\n",
    "result=np.vstack((arr1,arr2))\n",
    "\n",
    "\n",
    "print(result)"
   ]
  },
  {
   "cell_type": "code",
   "execution_count": 39,
   "id": "b72e0d4f-6d5f-4b1d-956a-c1bf8500ef1b",
   "metadata": {},
   "outputs": [
    {
     "name": "stdout",
     "output_type": "stream",
     "text": [
      "[1 2 3 4]\n"
     ]
    }
   ],
   "source": [
    "# np.hstack():Stacksarrayshorizontally(alongcolumns).\n",
    "arr1=np.array([1,2])\n",
    "arr2=np.array([3,4]) \n",
    "\n",
    "result=np.hstack((arr1,arr2))\n",
    "\n",
    "print(result)"
   ]
  },
  {
   "cell_type": "code",
   "execution_count": 41,
   "id": "a2df9b8e-c132-47e7-b5a3-e1302a0266be",
   "metadata": {},
   "outputs": [],
   "source": [
    "# NumpyFilter \n",
    "# InNumPy, youcanfilter elements inanarraybasedonaspecifiedconditionusing booleanindexing.\n",
    "# Booleanindexingallowsyoutocreateamask(abooleanarray)that selectselementsfromtheoriginalarraythatmeetthespecifiedcondition\n",
    "# .Here'showto filterelementsinaNumPyarray:"
   ]
  },
  {
   "cell_type": "code",
   "execution_count": 45,
   "id": "b9d2cf41-9f3e-4e18-a526-dd3b928610eb",
   "metadata": {},
   "outputs": [
    {
     "name": "stdout",
     "output_type": "stream",
     "text": [
      "FilteredArray: [4 5 6]\n"
     ]
    }
   ],
   "source": [
    "#CreateaNumPyarray \n",
    "arr=np.array([1,2,3,4,5,6])\n",
    "#Create a boolean mask based on a condition (e.g.,values greater than 3) \n",
    "mask=(arr>3) \n",
    "#Use the mask to filter elements in the array\n",
    "filtered_array=arr[mask]\n",
    "#Print the filtered array \n",
    "print(\"FilteredArray:\",filtered_array)"
   ]
  },
  {
   "cell_type": "code",
   "execution_count": 47,
   "id": "7dba780c-3a58-4be9-a296-71c85f67cd17",
   "metadata": {},
   "outputs": [
    {
     "name": "stdout",
     "output_type": "stream",
     "text": [
      "Filtered Temperatures:\n",
      "[20.5 22.  23.5 24.2]\n"
     ]
    }
   ],
   "source": [
    "#. Filter: \n",
    "# Real-Life Scenario: Filtering Sensor Data\n",
    "temperatures = np.array([20.5, 22.0, 19.8, 23.5, 18.0, 24.2, 26.1])\n",
    "\n",
    "filtered_temperatures = temperatures[(temperatures >= 20) & (temperatures <= 25)] \n",
    "print(\"Filtered Temperatures:\") \n",
    "print(filtered_temperatures)"
   ]
  },
  {
   "cell_type": "code",
   "execution_count": 49,
   "id": "aea4221a-956d-49e3-98b9-2ba9fd350f48",
   "metadata": {},
   "outputs": [
    {
     "name": "stdout",
     "output_type": "stream",
     "text": [
      "Class A Score Average 90.0\n",
      "Class A Standard Deviation 3.40587727318528\n",
      "Class A Variance 11.6\n"
     ]
    }
   ],
   "source": [
    "#mean #var #std\n",
    "#mean\n",
    "classA= np.array([85, 88, 90, 92, 95])\n",
    "classA_mean=np.mean(classA)\n",
    "print('Class A Score Average',classA_mean )\n",
    "classA_std=np.std(classA)\n",
    "print('Class A Standard Deviation',classA_std )#std\n",
    "classA_var=np.var(classA)\n",
    "print('Class A Variance',classA_var)#var"
   ]
  },
  {
   "cell_type": "code",
   "execution_count": 59,
   "id": "96f9eb71-6c2a-4708-b8df-10f695f6e353",
   "metadata": {},
   "outputs": [
    {
     "name": "stdout",
     "output_type": "stream",
     "text": [
      "Median (50th Percentile): 95.25\n"
     ]
    }
   ],
   "source": [
    "# Test scores of 30 students\n",
    "test_scores = np.array([65, 75, 80, 85, 90, 92, 94, 95, 96, 98, 100, 102, 104, 106, 108,\n",
    "                        110, 112, 114, 116, 118, 120, 122, 124, 126, 128, 130, 132, 134, 136, 138])\n",
    "median = np.percentile(test_scores, 25)\n",
    "print(\"Median (50th Percentile):\", median)"
   ]
  },
  {
   "cell_type": "code",
   "execution_count": null,
   "id": "cb14e7ed-8043-44d8-8d7b-d49d7b5bbdb9",
   "metadata": {},
   "outputs": [],
   "source": [
    "# np.load() is a function in the NumPy library used to load data from a binary file. \n",
    "# It is typically used to load previously saved NumPy arrays or objects that were saved using np.save() or a similar function."
   ]
  },
  {
   "cell_type": "code",
   "execution_count": 61,
   "id": "e8c220e6-d02b-40d0-9a50-0e87adac7ea0",
   "metadata": {},
   "outputs": [
    {
     "name": "stdout",
     "output_type": "stream",
     "text": [
      "Original Scores: [85 92 78 88 95 72 89]\n",
      "Loaded Scores: [85 92 78 88 95 72 89]\n"
     ]
    }
   ],
   "source": [
    "# Sample student scores\n",
    "scores = np.array([85, 92, 78, 88, 95, 72, 89])\n",
    "# Save the scores to a file\n",
    "np.save('student_scores.npy', scores)\n",
    "# Load the scores from the file\n",
    "loaded_scores = np.load('student_scores.npy')\n",
    "print(\"Original Scores:\", scores)\n",
    "print(\"Loaded Scores:\", loaded_scores)"
   ]
  },
  {
   "cell_type": "code",
   "execution_count": null,
   "id": "051b81f7-db30-45ae-9fdc-cc4320c35202",
   "metadata": {},
   "outputs": [],
   "source": []
  }
 ],
 "metadata": {
  "kernelspec": {
   "display_name": "Python 3 (ipykernel)",
   "language": "python",
   "name": "python3"
  },
  "language_info": {
   "codemirror_mode": {
    "name": "ipython",
    "version": 3
   },
   "file_extension": ".py",
   "mimetype": "text/x-python",
   "name": "python",
   "nbconvert_exporter": "python",
   "pygments_lexer": "ipython3",
   "version": "3.12.4"
  }
 },
 "nbformat": 4,
 "nbformat_minor": 5
}
