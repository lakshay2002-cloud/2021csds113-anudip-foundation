{
 "cells": [
  {
   "cell_type": "code",
   "execution_count": 1,
   "id": "5a5d5f4d-6999-483d-ba56-a6cfda5e2d9f",
   "metadata": {},
   "outputs": [
    {
     "name": "stdout",
     "output_type": "stream",
     "text": [
      "{'jun', 'march', 'january', 'may', 'april', 'feburary'}\n",
      "{'august', 'jun', 'march', 'january', 'feburary', 'september', 'july', 'may', 'april', 'october'}\n"
     ]
    }
   ],
   "source": [
    "months={\"january\",\"feburary\",\"march\",\"april\",\"may\",\"jun\"}\n",
    "print(months)\n",
    "months.add(\"august\")\n",
    "months.update([\"july\",\"august\",\"september\",\"october\"]);\n",
    "print(months)\n"
   ]
  },
  {
   "cell_type": "code",
   "execution_count": 5,
   "id": "f164c207-efb2-499a-b520-35465ce2ae03",
   "metadata": {},
   "outputs": [
    {
     "name": "stdout",
     "output_type": "stream",
     "text": [
      "{'jun', 'march', 'may', 'april', 'feburary'}\n"
     ]
    }
   ],
   "source": [
    "months={\"january\",\"feburary\",\"march\",\"april\",\"may\",\"jun\"}\n",
    "months.discard(\"january\");\n",
    "print(months)"
   ]
  },
  {
   "cell_type": "code",
   "execution_count": 7,
   "id": "92ff1103-0f7a-4d67-9976-bbd333dcd447",
   "metadata": {},
   "outputs": [
    {
     "name": "stdout",
     "output_type": "stream",
     "text": [
      "jun\n"
     ]
    }
   ],
   "source": [
    "months={\"january\",\"feburary\",\"march\",\"april\",\"may\",\"jun\"}\n",
    "delete =months.pop()\n",
    "print(delete)"
   ]
  },
  {
   "cell_type": "code",
   "execution_count": 9,
   "id": "da207b06-4561-478e-8e25-0940e19b14ce",
   "metadata": {},
   "outputs": [
    {
     "name": "stdout",
     "output_type": "stream",
     "text": [
      "{'microsoft', 'google', 'banana', 'apple', 'mango'}\n"
     ]
    }
   ],
   "source": [
    "x={\"apple\",\"banana\",\"mango\"}\n",
    "y={\"microsoft\",\"google\",\"apple\"}\n",
    "z=x.union(y)\n",
    "print(z)"
   ]
  },
  {
   "cell_type": "code",
   "execution_count": 13,
   "id": "93d11631-0990-4a17-80f7-d37716fde353",
   "metadata": {},
   "outputs": [
    {
     "name": "stdout",
     "output_type": "stream",
     "text": [
      "rahul\n",
      "rahul\n"
     ]
    }
   ],
   "source": [
    "name=\"rahul\"\n",
    "print(name)\n",
    "name+\"tiwari\"\n",
    "print(name)"
   ]
  },
  {
   "cell_type": "code",
   "execution_count": 15,
   "id": "14b27240-d5bc-4b4e-a9a9-0850ffdcd83d",
   "metadata": {},
   "outputs": [
    {
     "name": "stdout",
     "output_type": "stream",
     "text": [
      "2012239344240\n",
      "2012236976624\n"
     ]
    }
   ],
   "source": [
    "name=\"rahul\"\n",
    "print(id(name))\n",
    "name=name+\"tiwari\"\n",
    "print(id(name))"
   ]
  },
  {
   "cell_type": "code",
   "execution_count": 19,
   "id": "f1213e77-00de-4e1d-a6f6-846a40869bbf",
   "metadata": {
    "scrolled": true
   },
   "outputs": [
    {
     "name": "stdout",
     "output_type": "stream",
     "text": [
      "2012239344240\n",
      "2012251448432\n"
     ]
    },
    {
     "ename": "TypeError",
     "evalue": "'str' object does not support item assignment",
     "output_type": "error",
     "traceback": [
      "\u001b[1;31m---------------------------------------------------------------------------\u001b[0m",
      "\u001b[1;31mTypeError\u001b[0m                                 Traceback (most recent call last)",
      "Cell \u001b[1;32mIn[19], line 5\u001b[0m\n\u001b[0;32m      3\u001b[0m name\u001b[38;5;241m=\u001b[39mname\u001b[38;5;241m+\u001b[39m\u001b[38;5;124m\"\u001b[39m\u001b[38;5;124mtiwari\u001b[39m\u001b[38;5;124m\"\u001b[39m\n\u001b[0;32m      4\u001b[0m \u001b[38;5;28mprint\u001b[39m(\u001b[38;5;28mid\u001b[39m(name))\n\u001b[1;32m----> 5\u001b[0m name[\u001b[38;5;241m7\u001b[39m]\u001b[38;5;241m=\u001b[39m\u001b[38;5;124m'\u001b[39m\u001b[38;5;124mx\u001b[39m\u001b[38;5;124m'\u001b[39m\n\u001b[0;32m      6\u001b[0m \u001b[38;5;28mprint\u001b[39m(name)\n",
      "\u001b[1;31mTypeError\u001b[0m: 'str' object does not support item assignment"
     ]
    }
   ],
   "source": [
    "name=\"rahul\"\n",
    "print(id(name))\n",
    "name=name+\"tiwari\"\n",
    "print(id(name))\n",
    "name[7]='x'\n",
    "print(name)"
   ]
  },
  {
   "cell_type": "code",
   "execution_count": 21,
   "id": "9c014848-dd11-4769-9c9c-0702f4eac7e4",
   "metadata": {},
   "outputs": [
    {
     "name": "stdout",
     "output_type": "stream",
     "text": [
      "rahul tiwari\n",
      "a\n",
      "h\n"
     ]
    }
   ],
   "source": [
    "name=\"rahul tiwari\"\n",
    "print(name)\n",
    "print(name[1])\n",
    "print(name[2])"
   ]
  },
  {
   "cell_type": "code",
   "execution_count": 23,
   "id": "9d3d1af3-b295-4210-a579-c091e3f08c08",
   "metadata": {},
   "outputs": [
    {
     "name": "stdout",
     "output_type": "stream",
     "text": [
      "rahul tiwari\n",
      "au ia\n"
     ]
    }
   ],
   "source": [
    "name=\"rahul tiwari\"\n",
    "print(name)\n",
    "print(name[1:10:2])\n"
   ]
  },
  {
   "cell_type": "code",
   "execution_count": 27,
   "id": "ffbd7040-bb17-4550-ad0c-2307e9a819ad",
   "metadata": {},
   "outputs": [
    {
     "name": "stdout",
     "output_type": "stream",
     "text": [
      "rahul tiwari\n",
      "name[::] rahul tiwari\n"
     ]
    }
   ],
   "source": [
    "name=\"rahul tiwari\"\n",
    "print(name)\n",
    "print(\"name[::]\",name[::])\n"
   ]
  },
  {
   "cell_type": "code",
   "execution_count": 29,
   "id": "5dffd5df-6cce-428b-a4cf-e185f44e22fe",
   "metadata": {},
   "outputs": [
    {
     "name": "stdout",
     "output_type": "stream",
     "text": [
      "True\n",
      "False\n"
     ]
    }
   ],
   "source": [
    "x=[\"apple\",\"banana\"]\n",
    "y=[\"apple\",\"banana\"]\n",
    "z=x\n",
    "print(x is z)\n",
    "print(x is y )"
   ]
  },
  {
   "cell_type": "code",
   "execution_count": 31,
   "id": "e84530aa-a854-4a97-89dd-1e1b7987b03e",
   "metadata": {},
   "outputs": [
    {
     "name": "stdout",
     "output_type": "stream",
     "text": [
      "rahul tiwari\n",
      "Rahul tiwari\n"
     ]
    }
   ],
   "source": [
    "str=\"rahul tiwari\"\n",
    "print(str)\n",
    "str=str.capitalize()\n",
    "print(str)"
   ]
  },
  {
   "cell_type": "code",
   "execution_count": 33,
   "id": "ad467447-4451-43b9-a112-85c75cf8fcae",
   "metadata": {},
   "outputs": [
    {
     "name": "stdout",
     "output_type": "stream",
     "text": [
      "2012251573616\n",
      "2012251570736\n"
     ]
    }
   ],
   "source": [
    "str=\"rahul tiwari\"\n",
    "print(id(str))\n",
    "str=str.capitalize()\n",
    "print(id(str))"
   ]
  },
  {
   "cell_type": "code",
   "execution_count": 35,
   "id": "d060dc8e-4468-47ae-a455-0775862fb11f",
   "metadata": {},
   "outputs": [
    {
     "name": "stdout",
     "output_type": "stream",
     "text": [
      "rahul\n",
      "rahul\n"
     ]
    }
   ],
   "source": [
    "str=\"rahul\"\n",
    "print(str)\n",
    "str.center(15)\n",
    "print(str)\n"
   ]
  },
  {
   "cell_type": "code",
   "execution_count": 43,
   "id": "604ed877-ddf5-4f7f-9e71-18a8f60be3b9",
   "metadata": {},
   "outputs": [
    {
     "name": "stdout",
     "output_type": "stream",
     "text": [
      "rahul\n",
      "     rahul     \n"
     ]
    }
   ],
   "source": [
    "str=\"rahul\"\n",
    "print(str)\n",
    "str=str.center(15,)\n",
    "print(str)"
   ]
  },
  {
   "cell_type": "code",
   "execution_count": 47,
   "id": "aa12a181-7665-452a-bc7c-e62a0cee7bde",
   "metadata": {},
   "outputs": [
    {
     "name": "stdout",
     "output_type": "stream",
     "text": [
      "rahul\n",
      "*****rahul*****\n"
     ]
    }
   ],
   "source": [
    "str=\"rahul\"\n",
    "print(str)\n",
    "str=str.center(15,\"*\")\n",
    "print(str)"
   ]
  },
  {
   "cell_type": "code",
   "execution_count": 49,
   "id": "7313190e-d3a5-4180-ab8c-7ecabc12150b",
   "metadata": {},
   "outputs": [],
   "source": [
    "#python center() method allign string to the center by filling paddings left and right of the string .\n",
    "#this methods takes two parameters,first is a width and second is ta fillchar which is optional .the fiichar is a character which is used to fil\n",
    "#left and right padding of the string "
   ]
  },
  {
   "cell_type": "code",
   "execution_count": 51,
   "id": "2545f881-f12f-4407-9d3a-83a9303486e5",
   "metadata": {},
   "outputs": [],
   "source": [
    "#python string count()method:\n",
    "#it return the number of occurence of substring in the specified range .\n",
    "#it takes three parameters,first is a substring,second a start index and third is a last index .\n",
    "#start and end both are optional whereas substring is required."
   ]
  },
  {
   "cell_type": "code",
   "execution_count": 53,
   "id": "4aec1895-8bad-4d64-95cd-1f3e6848e4f7",
   "metadata": {},
   "outputs": [
    {
     "name": "stdout",
     "output_type": "stream",
     "text": [
      "1\n"
     ]
    }
   ],
   "source": [
    "str=\"second a start index and third\"\n",
    "oc=str.count('a',8,15)\n",
    "print(oc)"
   ]
  },
  {
   "cell_type": "code",
   "execution_count": 57,
   "id": "de820ffd-8454-45a9-8da3-790116f53323",
   "metadata": {},
   "outputs": [
    {
     "name": "stdout",
     "output_type": "stream",
     "text": [
      "False\n"
     ]
    }
   ],
   "source": [
    "str=\"second a start index and third\"\n",
    "isends=str.endswith(\"and\")\n",
    "print(isends)"
   ]
  },
  {
   "cell_type": "code",
   "execution_count": 59,
   "id": "b39bed46-030d-496a-bd9a-a164fd1a8c38",
   "metadata": {},
   "outputs": [
    {
     "name": "stdout",
     "output_type": "stream",
     "text": [
      "-1\n"
     ]
    }
   ],
   "source": [
    "str=\" welcome to python class \"\n",
    "str2=str.find(\"too\",9,13)\n",
    "print(str2)"
   ]
  },
  {
   "cell_type": "code",
   "execution_count": 63,
   "id": "9cc3cdbd-a758-4c30-a14b-947686f701ab",
   "metadata": {},
   "outputs": [
    {
     "ename": "ValueError",
     "evalue": "substring not found",
     "output_type": "error",
     "traceback": [
      "\u001b[1;31m---------------------------------------------------------------------------\u001b[0m",
      "\u001b[1;31mValueError\u001b[0m                                Traceback (most recent call last)",
      "Cell \u001b[1;32mIn[63], line 2\u001b[0m\n\u001b[0;32m      1\u001b[0m \u001b[38;5;28mstr\u001b[39m\u001b[38;5;241m=\u001b[39m\u001b[38;5;124m\"\u001b[39m\u001b[38;5;124m welcome to python class \u001b[39m\u001b[38;5;124m\"\u001b[39m\n\u001b[1;32m----> 2\u001b[0m str2\u001b[38;5;241m=\u001b[39m\u001b[38;5;28mstr\u001b[39m\u001b[38;5;241m.\u001b[39mindex(\u001b[38;5;124m\"\u001b[39m\u001b[38;5;124mth\u001b[39m\u001b[38;5;124m\"\u001b[39m,\u001b[38;5;241m19\u001b[39m,\u001b[38;5;241m21\u001b[39m)\n",
      "\u001b[1;31mValueError\u001b[0m: substring not found"
     ]
    }
   ],
   "source": [
    "str=\" welcome to python class \"\n",
    "str2=str.index(\"th\",19,21)\n"
   ]
  },
  {
   "cell_type": "code",
   "execution_count": 67,
   "id": "2bfa7172-280a-423d-b019-875a1e97775f",
   "metadata": {},
   "outputs": [
    {
     "name": "stdout",
     "output_type": "stream",
     "text": [
      "False\n"
     ]
    }
   ],
   "source": [
    "str=\"second a start index and third\"\n",
    "isends=str.endswith(\"and\")\n",
    "print(isends)"
   ]
  },
  {
   "cell_type": "code",
   "execution_count": 69,
   "id": "a6e5fdf2-caad-4fdc-86cd-21d2828f4f6a",
   "metadata": {},
   "outputs": [
    {
     "name": "stdout",
     "output_type": "stream",
     "text": [
      "True\n",
      "True\n"
     ]
    }
   ],
   "source": [
    "str=\"14254\" #true\n",
    "str3=\"welcome123\" # false\n",
    "str2=str.isalnum()\n",
    "str4=str3.isalnum()\n",
    "print(str2)\n",
    "print(str4)"
   ]
  },
  {
   "cell_type": "code",
   "execution_count": 71,
   "id": "5ced8f3c-b856-4a07-940b-e9ae57169ba6",
   "metadata": {},
   "outputs": [
    {
     "name": "stdout",
     "output_type": "stream",
     "text": [
      "False\n"
     ]
    }
   ],
   "source": [
    "str=\"welcome to the python class\"\n",
    "output = str.isalnum()\n",
    "print(output)"
   ]
  },
  {
   "cell_type": "code",
   "execution_count": 75,
   "id": "2c389946-9818-4142-a5d0-d1b23c10e35e",
   "metadata": {},
   "outputs": [
    {
     "name": "stdout",
     "output_type": "stream",
     "text": [
      "python\n"
     ]
    }
   ],
   "source": [
    "#python string lower()method\n",
    "str=\"PYTHON\"\n",
    "str=str.lower()\n",
    "print(str)"
   ]
  },
  {
   "cell_type": "code",
   "execution_count": 77,
   "id": "5a7a1791-948e-441a-9d3d-a5f071353d31",
   "metadata": {},
   "outputs": [
    {
     "name": "stdout",
     "output_type": "stream",
     "text": [
      "PYTHON\n"
     ]
    }
   ],
   "source": [
    "#python string upper()method\n",
    "str=\"python\"\n",
    "str=str.upper()\n",
    "print(str)"
   ]
  },
  {
   "cell_type": "code",
   "execution_count": 83,
   "id": "60c8d09a-f64f-4f9f-a9bd-f1dacf0e02b1",
   "metadata": {},
   "outputs": [
    {
     "name": "stdout",
     "output_type": "stream",
     "text": [
      ".....python.....\n",
      "python.....\n",
      ".....python\n",
      "python\n"
     ]
    }
   ],
   "source": [
    "str=\".....python.....\"\n",
    "str2=str.lstrip('.')\n",
    "str3=str.rstrip('.')\n",
    "str4=str.strip('.')\n",
    "\n",
    "print(str)\n",
    "print(str2)\n",
    "print(str3)\n",
    "print(str4)\n"
   ]
  },
  {
   "cell_type": "code",
   "execution_count": 85,
   "id": "e1bc68f5-50f6-4373-8af9-dd4f2e35d053",
   "metadata": {},
   "outputs": [
    {
     "name": "stdout",
     "output_type": "stream",
     "text": [
      "JAVA IS A PROGRAMMING LANGUAGE\n"
     ]
    }
   ],
   "source": [
    "#python string swapcase method\n",
    "str=\"java is a programming language\"\n",
    "str2=str.swapcase()\n",
    "print(str2)"
   ]
  },
  {
   "cell_type": "code",
   "execution_count": 87,
   "id": "0ec64038-c1c9-4f18-88f5-74390fc69c36",
   "metadata": {},
   "outputs": [
    {
     "name": "stdout",
     "output_type": "stream",
     "text": [
      "c is a programming language\n"
     ]
    }
   ],
   "source": [
    "#replace method\n",
    "str=\"java is a programming language\"\n",
    "str2=str.replace(\"java\",\"c\")\n",
    "print(str2)"
   ]
  },
  {
   "cell_type": "code",
   "execution_count": null,
   "id": "1af42556-d064-43a1-a122-d4423322a3cc",
   "metadata": {},
   "outputs": [],
   "source": []
  }
 ],
 "metadata": {
  "kernelspec": {
   "display_name": "Python 3 (ipykernel)",
   "language": "python",
   "name": "python3"
  },
  "language_info": {
   "codemirror_mode": {
    "name": "ipython",
    "version": 3
   },
   "file_extension": ".py",
   "mimetype": "text/x-python",
   "name": "python",
   "nbconvert_exporter": "python",
   "pygments_lexer": "ipython3",
   "version": "3.12.4"
  }
 },
 "nbformat": 4,
 "nbformat_minor": 5
}
