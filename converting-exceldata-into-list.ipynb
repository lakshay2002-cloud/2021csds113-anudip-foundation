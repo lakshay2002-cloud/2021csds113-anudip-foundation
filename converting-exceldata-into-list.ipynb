{
 "cells": [
  {
   "cell_type": "code",
   "execution_count": 14,
   "id": "9215a210-f85d-4303-af81-f7d72415ea79",
   "metadata": {},
   "outputs": [
    {
     "name": "stdout",
     "output_type": "stream",
     "text": [
      "+--------------+----------------+------------+-------+---------+-----------+---------+-----------+------------+---------+\n",
      "| Student ID   | Student Name   | Standard   |   Age |   Hindi |   English |   Maths |   Science |   Computer |   Total |\n",
      "+==============+================+============+=======+=========+===========+=========+===========+============+=========+\n",
      "| std101       | Ashish Kumar   | 10th       |    15 |      67 |        89 |      87 |        89 |         90 |     422 |\n",
      "+--------------+----------------+------------+-------+---------+-----------+---------+-----------+------------+---------+\n",
      "| std102       | Abhishek Kumar | 10th       |    15 |      48 |        90 |      78 |        78 |         45 |     313 |\n",
      "+--------------+----------------+------------+-------+---------+-----------+---------+-----------+------------+---------+\n",
      "| std103       | Aman           | 10th       |    15 |      56 |        56 |      78 |        78 |         45 |     313 |\n",
      "+--------------+----------------+------------+-------+---------+-----------+---------+-----------+------------+---------+\n",
      "| std104       | Rahul          | 10th       |    14 |      34 |        67 |      56 |        45 |         98 |     302 |\n",
      "+--------------+----------------+------------+-------+---------+-----------+---------+-----------+------------+---------+\n",
      "| std105       | Ruby           | 10th       |    13 |      89 |        56 |      45 |        89 |         56 |     258 |\n",
      "+--------------+----------------+------------+-------+---------+-----------+---------+-----------+------------+---------+\n",
      "| std106       | Suman          | 10th       |    15 |      90 |        56 |      67 |        67 |        123 |     403 |\n",
      "+--------------+----------------+------------+-------+---------+-----------+---------+-----------+------------+---------+\n",
      "| std107       | Saurabh        | 10th       |    15 |      45 |        23 |      34 |        78 |         67 |     247 |\n",
      "+--------------+----------------+------------+-------+---------+-----------+---------+-----------+------------+---------+\n",
      "| std108       | Sumit          | 10th       |    15 |      56 |        45 |      67 |        78 |         78 |     324 |\n",
      "+--------------+----------------+------------+-------+---------+-----------+---------+-----------+------------+---------+\n",
      "| std109       | Kamlesh        | 10th       |    15 |      45 |        67 |      78 |        78 |         45 |     303 |\n",
      "+--------------+----------------+------------+-------+---------+-----------+---------+-----------+------------+---------+\n",
      "| std110       | Rohan          | 10th       |    15 |      12 |        24 |      45 |        56 |         34 |     171 |\n",
      "+--------------+----------------+------------+-------+---------+-----------+---------+-----------+------------+---------+\n"
     ]
    }
   ],
   "source": [
    "from tabulate import tabulate\n",
    "\n",
    "students = [\n",
    "    {\"stid\": \"std101\", \"stdname\": \"Ashish Kumar\", \"standard\": \"10th\", \"Age\": 15, \"Hindi\": 67, \"English\": 89, \"Maths\": 87, \"Science\": 89, \"Computer\": 90, \"Total\": 422},\n",
    "    {\"stid\": \"std102\", \"stdname\": \"Abhishek Kumar\", \"standard\": \"10th\", \"Age\": 15, \"Hindi\": 48, \"English\": 90, \"Maths\": 78, \"Science\": 78, \"Computer\": 45, \"Total\": 313},\n",
    "    {\"stid\": \"std103\", \"stdname\": \"Aman\", \"standard\": \"10th\", \"Age\": 15, \"Hindi\": 56, \"English\": 56, \"Maths\": 78, \"Science\": 78, \"Computer\": 45, \"Total\": 313},\n",
    "    {\"stid\": \"std104\", \"stdname\": \"Rahul\", \"standard\": \"10th\", \"Age\": 14, \"Hindi\": 34, \"English\": 67, \"Maths\": 56, \"Science\": 45, \"Computer\": 98, \"Total\": 302},\n",
    "    {\"stid\": \"std105\", \"stdname\": \"Ruby\", \"standard\": \"10th\", \"Age\": 13, \"Hindi\": 89, \"English\": 56, \"Maths\": 45, \"Science\": 89, \"Computer\": 56, \"Total\": 258},\n",
    "    {\"stid\": \"std106\", \"stdname\": \"Suman\", \"standard\": \"10th\", \"Age\": 15, \"Hindi\": 90, \"English\": 56, \"Maths\": 67, \"Science\": 67, \"Computer\": 123, \"Total\": 403},\n",
    "    {\"stid\": \"std107\", \"stdname\": \"Saurabh\", \"standard\": \"10th\", \"Age\": 15, \"Hindi\": 45, \"English\": 23, \"Maths\": 34, \"Science\": 78, \"Computer\": 67, \"Total\": 247},\n",
    "    {\"stid\": \"std108\", \"stdname\": \"Sumit\", \"standard\": \"10th\", \"Age\": 15, \"Hindi\": 56, \"English\": 45, \"Maths\": 67, \"Science\": 78, \"Computer\": 78, \"Total\": 324},\n",
    "    {\"stid\": \"std109\", \"stdname\": \"Kamlesh\", \"standard\": \"10th\", \"Age\": 15, \"Hindi\": 45, \"English\": 67, \"Maths\": 78, \"Science\": 78, \"Computer\": 45, \"Total\": 303},\n",
    "    {\"stid\": \"std110\", \"stdname\": \"Rohan\", \"standard\": \"10th\", \"Age\": 15, \"Hindi\": 12, \"English\": 24, \"Maths\": 45, \"Science\": 56, \"Computer\": 34, \"Total\": 171},\n",
    "]\n",
    "\n",
    "# Prepare data for tabulate\n",
    "table_data = []\n",
    "for student in students:\n",
    "    table_data.append([\n",
    "        student[\"stid\"], student[\"stdname\"], student[\"standard\"], student[\"Age\"],\n",
    "        student[\"Hindi\"], student[\"English\"], student[\"Maths\"], student[\"Science\"],\n",
    "        student[\"Computer\"], student[\"Total\"]\n",
    "    ])\n",
    "\n",
    "# Display in tabular format\n",
    "headers = [\"Student ID\", \"Student Name\", \"Standard\", \"Age\", \"Hindi\", \"English\", \"Maths\", \"Science\", \"Computer\", \"Total\"]\n",
    "print(tabulate(table_data, headers=headers, tablefmt=\"grid\"))\n",
    "\n"
   ]
  },
  {
   "cell_type": "code",
   "execution_count": 18,
   "id": "4ac46ef2-dd71-462e-9f61-d9e754c41744",
   "metadata": {},
   "outputs": [
    {
     "name": "stdout",
     "output_type": "stream",
     "text": [
      "Ashish Kumar\n",
      "Abhishek Kumar\n",
      "Aman\n",
      "Rahul\n",
      "Ruby\n",
      "Suman\n",
      "Kamlesh\n"
     ]
    }
   ],
   "source": [
    "students_above_50_english = [student[\"stdname\"] for student in students if student[\"English\"] > 50]\n",
    "\n",
    "# Print the names\n",
    "for name in students_above_50_english:\n",
    "    print(name)"
   ]
  },
  {
   "cell_type": "code",
   "execution_count": 23,
   "id": "69dcf3a1-f87d-491c-899c-04518345c41f",
   "metadata": {},
   "outputs": [
    {
     "name": "stdout",
     "output_type": "stream",
     "text": [
      "Name: Ashish Kumar Age: 15\n",
      "Name: Abhishek Kumar Age: 15\n",
      "Name: Aman Age: 15\n",
      "Name: Kamlesh Age: 15\n"
     ]
    }
   ],
   "source": [
    "students_sorted_by_maths = sorted(students, key=lambda x: x[\"Maths\"], reverse=True)\n",
    "\n",
    "# Display name and age of top four scorers in Maths\n",
    "top_four_scorers = students_sorted_by_maths[:4]  # Extract top four students\n",
    "\n",
    "for student in top_four_scorers:\n",
    "    print(\"Name:\" ,student['stdname'], \"Age:\", student['Age'])"
   ]
  },
  {
   "cell_type": "code",
   "execution_count": null,
   "id": "ccec2385-434f-4369-bc2d-444f53f65951",
   "metadata": {},
   "outputs": [],
   "source": []
  }
 ],
 "metadata": {
  "kernelspec": {
   "display_name": "Python 3 (ipykernel)",
   "language": "python",
   "name": "python3"
  },
  "language_info": {
   "codemirror_mode": {
    "name": "ipython",
    "version": 3
   },
   "file_extension": ".py",
   "mimetype": "text/x-python",
   "name": "python",
   "nbconvert_exporter": "python",
   "pygments_lexer": "ipython3",
   "version": "3.12.4"
  }
 },
 "nbformat": 4,
 "nbformat_minor": 5
}
