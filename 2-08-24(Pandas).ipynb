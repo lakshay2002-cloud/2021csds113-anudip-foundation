{
 "cells": [
  {
   "cell_type": "code",
   "execution_count": 2,
   "id": "d2d70b06-fa9f-45f3-bd15-d094bb64464e",
   "metadata": {},
   "outputs": [
    {
     "data": {
      "text/plain": [
       "[10, 20, 30, 40, 50]"
      ]
     },
     "execution_count": 2,
     "metadata": {},
     "output_type": "execute_result"
    }
   ],
   "source": [
    "#pandas\n",
    "import pandas as pd\n",
    "data = [10, 20, 30, 40, 50]\n",
    "data"
   ]
  },
  {
   "cell_type": "code",
   "execution_count": 3,
   "id": "5b5f940d-a56d-4ec4-b380-6a8b480702c2",
   "metadata": {},
   "outputs": [
    {
     "name": "stdout",
     "output_type": "stream",
     "text": [
      "0    10\n",
      "1    20\n",
      "2    30\n",
      "3    40\n",
      "4    50\n",
      "dtype: int64\n"
     ]
    }
   ],
   "source": [
    "import pandas as pd\n",
    "data = [10, 20, 30, 40, 50]\n",
    "series = pd.Series(data)   #series used for represneting one d array\n",
    "print(series)"
   ]
  },
  {
   "cell_type": "code",
   "execution_count": 5,
   "id": "e7227a4d-c974-4baf-9755-16716e4d8b54",
   "metadata": {},
   "outputs": [
    {
     "name": "stdout",
     "output_type": "stream",
     "text": [
      "January      12000\n",
      "February     13500\n",
      "March        14200\n",
      "April        12800\n",
      "May          14000\n",
      "June         15500\n",
      "July         16200\n",
      "August       15800\n",
      "September    16500\n",
      "October      17800\n",
      "November     18500\n",
      "December     17200\n",
      "Name: Monthly Sales (USD), dtype: int32\n"
     ]
    }
   ],
   "source": [
    "#monthly sales data\n",
    "# Months in a year\n",
    "months = ['January', 'February', 'March', 'April', 'May', 'June', 'July', 'August', 'September',\n",
    "'October', 'November', 'December']\n",
    "# Monthly sales data for a product (example data)\n",
    "sales_data = [12000, 13500, 14200, 12800, 14000, 15500, 16200, 15800, 16500,\n",
    "17800, 18500, 17200]\n",
    "# Create a Pandas Series with months as the index\n",
    "sales_series = pd.Series(sales_data, index=months, name='Monthly Sales (USD)',dtype=int)\n",
    "# Display the Series\n",
    "print(sales_series)"
   ]
  },
  {
   "cell_type": "code",
   "execution_count": 10,
   "id": "89e46f87-ece3-4541-b7e7-ec023cac0840",
   "metadata": {},
   "outputs": [
    {
     "name": "stdout",
     "output_type": "stream",
     "text": [
      "      Name  Age         City\n",
      "0    Alice   25     New York\n",
      "1      Bob   30  Los Angeles\n",
      "2  Charlie   35      Chicago\n",
      "3    David   28      Houston\n"
     ]
    }
   ],
   "source": [
    "#create dataframe\n",
    "\n",
    "data = {'Name': ['Alice', 'Bob', 'Charlie', 'David'],\n",
    "        'Age': [25, 30, 35, 28],\n",
    "        'City': ['New York', 'Los Angeles', 'Chicago', 'Houston']}\n",
    "df = pd.DataFrame(data)\n",
    "print(df)\n"
   ]
  },
  {
   "cell_type": "code",
   "execution_count": 11,
   "id": "011c02fd-dfc7-4494-8549-d97dbae143ef",
   "metadata": {},
   "outputs": [
    {
     "name": "stdout",
     "output_type": "stream",
     "text": [
      "Before Adding Column\n",
      "      Name  Age\n",
      "0    Alice   25\n",
      "1      Bob   30\n",
      "2  Charlie   35\n",
      "3    David   28\n",
      "After Adding Column\n",
      "      Name  Age         City\n",
      "0    Alice   25     New York\n",
      "1      Bob   30  Los Angeles\n",
      "2  Charlie   35      Chicago\n",
      "3    David   28      Houston\n"
     ]
    }
   ],
   "source": [
    "data = {'Name': ['Alice', 'Bob', 'Charlie', 'David'],\n",
    "        'Age': [25, 30, 35, 28]}\n",
    "df = pd.DataFrame(data)\n",
    "print(\"Before Adding Column\")\n",
    "print(df)\n",
    "# Add a new column \"City\" with values\n",
    "df['City'] = ['New York', 'Los Angeles', 'Chicago', 'Houston']\n",
    "print(\"After Adding Column\")\n",
    "print(df)\n"
   ]
  },
  {
   "cell_type": "code",
   "execution_count": 12,
   "id": "04266790-0713-43b3-a6d5-3a8fd6db5a60",
   "metadata": {},
   "outputs": [
    {
     "name": "stdout",
     "output_type": "stream",
     "text": [
      "Initial DataFrame:\n",
      "      Name  Age         City\n",
      "0    Alice   25     New York\n",
      "1      Bob   30  Los Angeles\n",
      "2  Charlie   35      Chicago\n",
      "3    David   28      Houston\n",
      "      Name  Age         City  Gender Grade\n",
      "0    Alice   25     New York  Female     A\n",
      "1      Bob   30  Los Angeles    Male     B\n",
      "2  Charlie   35      Chicago    Male     C\n",
      "3    David   28      Houston    Male     B\n"
     ]
    }
   ],
   "source": [
    "data = {'Name': ['Alice', 'Bob', 'Charlie', 'David'],\n",
    "        'Age': [25, 30, 35, 28],\n",
    "        'City': ['New York', 'Los Angeles', 'Chicago', 'Houston']}\n",
    "df = pd.DataFrame(data)\n",
    "print(\"Initial DataFrame:\")\n",
    "print(df)\n",
    "new_columns = {\n",
    "'Gender': ['Female', 'Male', 'Male', 'Male'],\n",
    "'Grade': ['A', 'B', 'C', 'B']\n",
    "}\n",
    "df['Gender'] = new_columns['Gender']\n",
    "df['Grade'] = new_columns['Grade']\n",
    "print(df)"
   ]
  },
  {
   "cell_type": "code",
   "execution_count": 13,
   "id": "472d5c96-f4a0-4f8b-9fa2-47c20f8ff206",
   "metadata": {},
   "outputs": [
    {
     "name": "stdout",
     "output_type": "stream",
     "text": [
      "Initial DataFrame:\n",
      "      Name  Age         City\n",
      "0    Alice   25     New York\n",
      "1      Bob   30  Los Angeles\n",
      "2  Charlie   35      Chicago\n",
      "3    David   28      Houston\n",
      "      Name  Age         City  Gender Grade\n",
      "0    Alice   25     New York  Female     A\n",
      "1      Bob   30  Los Angeles    Male     B\n",
      "2  Charlie   35      Chicago    Male     C\n",
      "3    David   28      Houston    Male     B\n",
      "      Name  marks  Age         City  Gender Grade\n",
      "0    Alice     88   25     New York  Female     A\n",
      "1      Bob     90   30  Los Angeles    Male     B\n",
      "2  Charlie     89   35      Chicago    Male     C\n",
      "3    David     99   28      Houston    Male     B\n"
     ]
    }
   ],
   "source": [
    "#Adding a column at a specific index:\n",
    "\n",
    "data = {'Name': ['Alice', 'Bob', 'Charlie', 'David'],\n",
    "        'Age': [25, 30, 35, 28],\n",
    "        'City': ['New York', 'Los Angeles', 'Chicago', 'Houston']}\n",
    "df = pd.DataFrame(data)\n",
    "print(\"Initial DataFrame:\")\n",
    "print(df)\n",
    "new_columns = {\n",
    "'Gender': ['Female', 'Male', 'Male', 'Male'],\n",
    "'Grade': ['A', 'B', 'C', 'B']\n",
    "}\n",
    "df['Gender'] = new_columns['Gender']\n",
    "df['Grade'] = new_columns['Grade']\n",
    "print(df)\n",
    "df.insert(1,'marks',[88,90,89,99])\n",
    "print(df)"
   ]
  },
  {
   "cell_type": "code",
   "execution_count": 15,
   "id": "69a140f9-b23d-4a7d-96cb-941dba4f1048",
   "metadata": {},
   "outputs": [
    {
     "name": "stdout",
     "output_type": "stream",
     "text": [
      "Initial DataFrame\n",
      "  Name  Age         City\n",
      "0    A   20      NewYork\n",
      "1    B   30  Los Angeles\n",
      "2    C   40      Chicago\n",
      "3    D   50      Houston\n",
      "  Name  Age           City\n",
      "0    E   25  San Francisco\n",
      "after adding a new row\n",
      "  Name  Age           City\n",
      "0    A   20        NewYork\n",
      "1    B   30    Los Angeles\n",
      "2    C   40        Chicago\n",
      "3    D   50        Houston\n",
      "4    E   25  San Francisco\n"
     ]
    }
   ],
   "source": [
    "#adding a new row\n",
    "data = {'Name': ['A', 'B', 'C', 'D'],\n",
    "        'Age': [20, 30, 40, 50],\n",
    "        'City': ['ghaziabad', 'up', 'delhi', 'meerut']}\n",
    "df = pd.DataFrame(data)\n",
    "print(\"Initial DataFrame\")\n",
    "print(df)\n",
    "new_row = pd.DataFrame([{'Name': 'E', 'Age': 25, 'City': 'noida'}])\n",
    "print(new_row)\n",
    "print(\"after adding a new row\")\n",
    "df = pd.concat([df, new_row], ignore_index=True)  \n",
    "print(df)"
   ]
  },
  {
   "cell_type": "code",
   "execution_count": 19,
   "id": "6d508322-de64-4ee4-a77a-70b22c3e3468",
   "metadata": {},
   "outputs": [
    {
     "name": "stdout",
     "output_type": "stream",
     "text": [
      "Initial DataFrame\n",
      "  Name  Age       City\n",
      "0    A   20  ghaziabad\n",
      "1    B   30         up\n",
      "2    C   40      delhi\n",
      "3    D   50     meerut\n"
     ]
    },
    {
     "ename": "ValueError",
     "evalue": "Incompatible indexer with Series",
     "output_type": "error",
     "traceback": [
      "\u001b[1;31m---------------------------------------------------------------------------\u001b[0m",
      "\u001b[1;31mValueError\u001b[0m                                Traceback (most recent call last)",
      "Cell \u001b[1;32mIn[19], line 10\u001b[0m\n\u001b[0;32m      8\u001b[0m new_row \u001b[38;5;241m=\u001b[39m pd\u001b[38;5;241m.\u001b[39mDataFrame([{\u001b[38;5;124m'\u001b[39m\u001b[38;5;124mName\u001b[39m\u001b[38;5;124m'\u001b[39m: \u001b[38;5;124m'\u001b[39m\u001b[38;5;124mE\u001b[39m\u001b[38;5;124m'\u001b[39m, \u001b[38;5;124m'\u001b[39m\u001b[38;5;124mAge\u001b[39m\u001b[38;5;124m'\u001b[39m: \u001b[38;5;241m25\u001b[39m, \u001b[38;5;124m'\u001b[39m\u001b[38;5;124mCity\u001b[39m\u001b[38;5;124m'\u001b[39m: \u001b[38;5;124m'\u001b[39m\u001b[38;5;124mnoida\u001b[39m\u001b[38;5;124m'\u001b[39m}])\n\u001b[0;32m      9\u001b[0m insert_index \u001b[38;5;241m=\u001b[39m \u001b[38;5;241m2\u001b[39m \n\u001b[1;32m---> 10\u001b[0m \u001b[43mdf\u001b[49m\u001b[38;5;241;43m.\u001b[39;49m\u001b[43mloc\u001b[49m\u001b[43m[\u001b[49m\u001b[43minsert_index\u001b[49m\u001b[43m]\u001b[49m\u001b[38;5;241m=\u001b[39mnew_row\n\u001b[0;32m     12\u001b[0m \u001b[38;5;28mprint\u001b[39m(df)\n",
      "File \u001b[1;32m~\\AppData\\Local\\Programs\\Python\\Python312\\Lib\\site-packages\\pandas\\core\\indexing.py:911\u001b[0m, in \u001b[0;36m_LocationIndexer.__setitem__\u001b[1;34m(self, key, value)\u001b[0m\n\u001b[0;32m    908\u001b[0m \u001b[38;5;28mself\u001b[39m\u001b[38;5;241m.\u001b[39m_has_valid_setitem_indexer(key)\n\u001b[0;32m    910\u001b[0m iloc \u001b[38;5;241m=\u001b[39m \u001b[38;5;28mself\u001b[39m \u001b[38;5;28;01mif\u001b[39;00m \u001b[38;5;28mself\u001b[39m\u001b[38;5;241m.\u001b[39mname \u001b[38;5;241m==\u001b[39m \u001b[38;5;124m\"\u001b[39m\u001b[38;5;124miloc\u001b[39m\u001b[38;5;124m\"\u001b[39m \u001b[38;5;28;01melse\u001b[39;00m \u001b[38;5;28mself\u001b[39m\u001b[38;5;241m.\u001b[39mobj\u001b[38;5;241m.\u001b[39miloc\n\u001b[1;32m--> 911\u001b[0m \u001b[43miloc\u001b[49m\u001b[38;5;241;43m.\u001b[39;49m\u001b[43m_setitem_with_indexer\u001b[49m\u001b[43m(\u001b[49m\u001b[43mindexer\u001b[49m\u001b[43m,\u001b[49m\u001b[43m \u001b[49m\u001b[43mvalue\u001b[49m\u001b[43m,\u001b[49m\u001b[43m \u001b[49m\u001b[38;5;28;43mself\u001b[39;49m\u001b[38;5;241;43m.\u001b[39;49m\u001b[43mname\u001b[49m\u001b[43m)\u001b[49m\n",
      "File \u001b[1;32m~\\AppData\\Local\\Programs\\Python\\Python312\\Lib\\site-packages\\pandas\\core\\indexing.py:1942\u001b[0m, in \u001b[0;36m_iLocIndexer._setitem_with_indexer\u001b[1;34m(self, indexer, value, name)\u001b[0m\n\u001b[0;32m   1939\u001b[0m \u001b[38;5;66;03m# align and set the values\u001b[39;00m\n\u001b[0;32m   1940\u001b[0m \u001b[38;5;28;01mif\u001b[39;00m take_split_path:\n\u001b[0;32m   1941\u001b[0m     \u001b[38;5;66;03m# We have to operate column-wise\u001b[39;00m\n\u001b[1;32m-> 1942\u001b[0m     \u001b[38;5;28;43mself\u001b[39;49m\u001b[38;5;241;43m.\u001b[39;49m\u001b[43m_setitem_with_indexer_split_path\u001b[49m\u001b[43m(\u001b[49m\u001b[43mindexer\u001b[49m\u001b[43m,\u001b[49m\u001b[43m \u001b[49m\u001b[43mvalue\u001b[49m\u001b[43m,\u001b[49m\u001b[43m \u001b[49m\u001b[43mname\u001b[49m\u001b[43m)\u001b[49m\n\u001b[0;32m   1943\u001b[0m \u001b[38;5;28;01melse\u001b[39;00m:\n\u001b[0;32m   1944\u001b[0m     \u001b[38;5;28mself\u001b[39m\u001b[38;5;241m.\u001b[39m_setitem_single_block(indexer, value, name)\n",
      "File \u001b[1;32m~\\AppData\\Local\\Programs\\Python\\Python312\\Lib\\site-packages\\pandas\\core\\indexing.py:1977\u001b[0m, in \u001b[0;36m_iLocIndexer._setitem_with_indexer_split_path\u001b[1;34m(self, indexer, value, name)\u001b[0m\n\u001b[0;32m   1975\u001b[0m \u001b[38;5;28;01mif\u001b[39;00m is_list_like_indexer(value) \u001b[38;5;129;01mand\u001b[39;00m \u001b[38;5;28mgetattr\u001b[39m(value, \u001b[38;5;124m\"\u001b[39m\u001b[38;5;124mndim\u001b[39m\u001b[38;5;124m\"\u001b[39m, \u001b[38;5;241m1\u001b[39m) \u001b[38;5;241m>\u001b[39m \u001b[38;5;241m0\u001b[39m:\n\u001b[0;32m   1976\u001b[0m     \u001b[38;5;28;01mif\u001b[39;00m \u001b[38;5;28misinstance\u001b[39m(value, ABCDataFrame):\n\u001b[1;32m-> 1977\u001b[0m         \u001b[38;5;28;43mself\u001b[39;49m\u001b[38;5;241;43m.\u001b[39;49m\u001b[43m_setitem_with_indexer_frame_value\u001b[49m\u001b[43m(\u001b[49m\u001b[43mindexer\u001b[49m\u001b[43m,\u001b[49m\u001b[43m \u001b[49m\u001b[43mvalue\u001b[49m\u001b[43m,\u001b[49m\u001b[43m \u001b[49m\u001b[43mname\u001b[49m\u001b[43m)\u001b[49m\n\u001b[0;32m   1979\u001b[0m     \u001b[38;5;28;01melif\u001b[39;00m np\u001b[38;5;241m.\u001b[39mndim(value) \u001b[38;5;241m==\u001b[39m \u001b[38;5;241m2\u001b[39m:\n\u001b[0;32m   1980\u001b[0m         \u001b[38;5;66;03m# TODO: avoid np.ndim call in case it isn't an ndarray, since\u001b[39;00m\n\u001b[0;32m   1981\u001b[0m         \u001b[38;5;66;03m#  that will construct an ndarray, which will be wasteful\u001b[39;00m\n\u001b[0;32m   1982\u001b[0m         \u001b[38;5;28mself\u001b[39m\u001b[38;5;241m.\u001b[39m_setitem_with_indexer_2d_value(indexer, value)\n",
      "File \u001b[1;32m~\\AppData\\Local\\Programs\\Python\\Python312\\Lib\\site-packages\\pandas\\core\\indexing.py:2100\u001b[0m, in \u001b[0;36m_iLocIndexer._setitem_with_indexer_frame_value\u001b[1;34m(self, indexer, value, name)\u001b[0m\n\u001b[0;32m   2098\u001b[0m \u001b[38;5;28;01mif\u001b[39;00m item \u001b[38;5;129;01min\u001b[39;00m value:\n\u001b[0;32m   2099\u001b[0m     sub_indexer[\u001b[38;5;241m1\u001b[39m] \u001b[38;5;241m=\u001b[39m item\n\u001b[1;32m-> 2100\u001b[0m     val \u001b[38;5;241m=\u001b[39m \u001b[38;5;28;43mself\u001b[39;49m\u001b[38;5;241;43m.\u001b[39;49m\u001b[43m_align_series\u001b[49m\u001b[43m(\u001b[49m\n\u001b[0;32m   2101\u001b[0m \u001b[43m        \u001b[49m\u001b[38;5;28;43mtuple\u001b[39;49m\u001b[43m(\u001b[49m\u001b[43msub_indexer\u001b[49m\u001b[43m)\u001b[49m\u001b[43m,\u001b[49m\n\u001b[0;32m   2102\u001b[0m \u001b[43m        \u001b[49m\u001b[43mvalue\u001b[49m\u001b[43m[\u001b[49m\u001b[43mitem\u001b[49m\u001b[43m]\u001b[49m\u001b[43m,\u001b[49m\n\u001b[0;32m   2103\u001b[0m \u001b[43m        \u001b[49m\u001b[43mmultiindex_indexer\u001b[49m\u001b[43m,\u001b[49m\n\u001b[0;32m   2104\u001b[0m \u001b[43m        \u001b[49m\u001b[43musing_cow\u001b[49m\u001b[38;5;241;43m=\u001b[39;49m\u001b[43musing_copy_on_write\u001b[49m\u001b[43m(\u001b[49m\u001b[43m)\u001b[49m\u001b[43m,\u001b[49m\n\u001b[0;32m   2105\u001b[0m \u001b[43m    \u001b[49m\u001b[43m)\u001b[49m\n\u001b[0;32m   2106\u001b[0m \u001b[38;5;28;01melse\u001b[39;00m:\n\u001b[0;32m   2107\u001b[0m     val \u001b[38;5;241m=\u001b[39m np\u001b[38;5;241m.\u001b[39mnan\n",
      "File \u001b[1;32m~\\AppData\\Local\\Programs\\Python\\Python312\\Lib\\site-packages\\pandas\\core\\indexing.py:2455\u001b[0m, in \u001b[0;36m_iLocIndexer._align_series\u001b[1;34m(self, indexer, ser, multiindex_indexer, using_cow)\u001b[0m\n\u001b[0;32m   2451\u001b[0m         \u001b[38;5;28;01mreturn\u001b[39;00m ser\u001b[38;5;241m.\u001b[39m_values\u001b[38;5;241m.\u001b[39mcopy()\n\u001b[0;32m   2453\u001b[0m     \u001b[38;5;28;01mreturn\u001b[39;00m ser\u001b[38;5;241m.\u001b[39mreindex(ax)\u001b[38;5;241m.\u001b[39m_values\n\u001b[1;32m-> 2455\u001b[0m \u001b[38;5;28;01mraise\u001b[39;00m \u001b[38;5;167;01mValueError\u001b[39;00m(\u001b[38;5;124m\"\u001b[39m\u001b[38;5;124mIncompatible indexer with Series\u001b[39m\u001b[38;5;124m\"\u001b[39m)\n",
      "\u001b[1;31mValueError\u001b[0m: Incompatible indexer with Series"
     ]
    }
   ],
   "source": [
    "#adding multiple rows\n",
    "data = {'Name': ['A', 'B', 'C', 'D'],\n",
    "        'Age': [20, 30, 40, 50],\n",
    "        'City': ['ghaziabad', 'up', 'delhi', 'meerut']}\n",
    "df = pd.DataFrame(data)\n",
    "print(\"Initial DataFrame\")\n",
    "print(df)\n",
    "new_row = pd.DataFrame([{'Name': 'E', 'Age': 25, 'City': 'noida'}])\n",
    "insert_index = 2 \n",
    "df.loc[insert_index]=new_row\n",
    "\n",
    "print(df)"
   ]
  },
  {
   "cell_type": "code",
   "execution_count": 20,
   "id": "a8745ab5-da36-40d0-b619-cabaa4a2aac3",
   "metadata": {},
   "outputs": [
    {
     "name": "stdout",
     "output_type": "stream",
     "text": [
      "Before Updating Column\n",
      "        Fruit   Color  Price\n",
      "0       Apple     Red     45\n",
      "1     Avacado   Green     90\n",
      "2      Banana  Yellow     60\n",
      "3  Strawberry    Pink     37\n",
      "4       Grape   Green     49\n",
      "After Updating Column\n",
      "   Fruit Name   Color  Price\n",
      "0       Apple     Red     45\n",
      "1     Avacado   Green     90\n",
      "2      Banana  Yellow     60\n",
      "3  Strawberry    Pink     37\n",
      "4       Grape   Green     49\n"
     ]
    }
   ],
   "source": [
    "#update column name\n",
    "fruit_data = {\"Fruit\": ['Apple','Avacado','Banana','Strawberry','Grape'],\n",
    "              \"Color\":['Red','Green','Yellow','Pink','Green'],\n",
    "              \"Price\": [45, 90, 60, 37, 49]}\n",
    "data = pd.DataFrame(fruit_data)\n",
    "print(\"Before Updating Column\")\n",
    "print(data)\n",
    "data=data.rename(columns = {'Fruit':'Fruit Name'})\n",
    "print(\"After Updating Column\")\n",
    "print(data)"
   ]
  },
  {
   "cell_type": "code",
   "execution_count": 21,
   "id": "acaf20f2-2b54-44ca-8a4b-460a8c2e4027",
   "metadata": {},
   "outputs": [
    {
     "name": "stdout",
     "output_type": "stream",
     "text": [
      "Before Updating Column\n",
      "        Fruit   Color  Price\n",
      "0       Apple     Red     45\n",
      "1     Avacado   Green     90\n",
      "2      Banana  Yellow     60\n",
      "3  Strawberry    Pink     37\n",
      "4       Grape   Green     49\n",
      "After Updating Column\n",
      "   Fruit Name   Color  Cost\n",
      "0       Apple     Red    45\n",
      "1     Avacado   Green    90\n",
      "2      Banana  Yellow    60\n",
      "3  Strawberry    Pink    37\n",
      "4       Grape   Green    49\n"
     ]
    }
   ],
   "source": [
    "#update multiple column\n",
    "fruit_data = {\"Fruit\": ['Apple','Avacado','Banana','Strawberry','Grape'],\n",
    "              \"Color\":['Red','Green','Yellow','Pink','Green'],\n",
    "              \"Price\": [45, 90, 60, 37, 49]}\n",
    "data = pd.DataFrame(fruit_data)\n",
    "print(\"Before Updating Column\")\n",
    "print(data)\n",
    "data=data.rename(columns = {'Fruit':'Fruit Name','Colour':'Color','Price':'Cost'})\n",
    "print(\"After Updating Column\")\n",
    "print(data)\n"
   ]
  },
  {
   "cell_type": "code",
   "execution_count": 26,
   "id": "0b902669-0be2-4475-b8a3-3caa81fb6bf5",
   "metadata": {},
   "outputs": [
    {
     "name": "stdout",
     "output_type": "stream",
     "text": [
      "Display 4th row Value\n",
      "Fruit Name    pineapple\n",
      "Color            yellow\n",
      "Cost                 48\n",
      "Name: 3, dtype: object\n",
      "after updating value\n",
      "  Fruit Name   Color  Cost\n",
      "0      Apple     Red    45\n",
      "1    Avacado   Green    90\n",
      "2     Banana  Yellow    60\n",
      "3  pineapple  yellow    48\n",
      "4      Grape   Green    49\n",
      "Fruit Name    pineapple\n",
      "Name: 3, dtype: object\n"
     ]
    }
   ],
   "source": [
    "#Updating Row Values\n",
    "print(\"Display 4th row Value\")\n",
    "print(data.loc[3]) # fetch the data of row at index 3\n",
    "data.loc[3]=['pineapple','yellow',48]\n",
    "print(\"after updating value\")\n",
    "print(data)\n",
    "print(data.loc[3, ['Fruit Name']])"
   ]
  },
  {
   "cell_type": "code",
   "execution_count": 27,
   "id": "674643a1-eb20-434f-979c-0fa889f5a556",
   "metadata": {},
   "outputs": [
    {
     "name": "stdout",
     "output_type": "stream",
     "text": [
      "        Fruit   Color  Price\n",
      "0       Apple     Red     45\n",
      "1     Avacado   Green     90\n",
      "2      Banana  Yellow     65\n",
      "3  Strawberry    Pink     37\n",
      "4       Grape   Green     49\n",
      "After Updating Values\n",
      "        Fruit   Color  Price        Remarks\n",
      "0       Apple     Red     45  Not Expensive\n",
      "1     Avacado   Green     90      Expensive\n",
      "2      Banana  Yellow     65      Expensive\n",
      "3  Strawberry    Pink     37  Not Expensive\n",
      "4       Grape   Green     49  Not Expensive\n"
     ]
    }
   ],
   "source": [
    "fruit_data = {\"Fruit\": ['Apple','Avacado','Banana','Strawberry','Grape'],\n",
    "              \"Color\": ['Red','Green','Yellow','Pink','Green'],\n",
    "               \"Price\": [45, 90, 65, 37, 49]}\n",
    "data = pd.DataFrame(fruit_data)\n",
    "print(data)\n",
    "data.loc[data['Price'] >60, 'Remarks'] = 'Expensive'\n",
    "data.loc[data['Price'] <60, 'Remarks'] = 'Not Expensive'\n",
    "print(\"After Updating Values\")\n",
    "print(data)"
   ]
  },
  {
   "cell_type": "code",
   "execution_count": null,
   "id": "ad8c2888-56da-4566-83c0-14630a94f961",
   "metadata": {},
   "outputs": [],
   "source": []
  }
 ],
 "metadata": {
  "kernelspec": {
   "display_name": "Python 3 (ipykernel)",
   "language": "python",
   "name": "python3"
  },
  "language_info": {
   "codemirror_mode": {
    "name": "ipython",
    "version": 3
   },
   "file_extension": ".py",
   "mimetype": "text/x-python",
   "name": "python",
   "nbconvert_exporter": "python",
   "pygments_lexer": "ipython3",
   "version": "3.12.2"
  }
 },
 "nbformat": 4,
 "nbformat_minor": 5
}
