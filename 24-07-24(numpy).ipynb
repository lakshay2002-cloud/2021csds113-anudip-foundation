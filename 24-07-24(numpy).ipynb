{
 "cells": [
  {
   "cell_type": "code",
   "execution_count": 1,
   "id": "58a96a4c-cbd7-474e-94d2-4e35a21b22c7",
   "metadata": {},
   "outputs": [],
   "source": [
    "#numpy\n",
    "#numpy stands for \"numerical python\",is a popular python library for numerical and scientific computing.\n",
    "#it provides support for working with large multidimensional arrys and matrices  of data,\n",
    "#along with a collection of mathematical functional to operate on these arrays.\n",
    "\n",
    "#features:\n",
    "#1.multidimensional\n",
    "#2.efficient and fast\n",
    "#3.Broadcasting\n",
    "#4.elemnet wise operations.\n",
    "#5.mathematical functions.\n",
    "#6.random number generation\n"
   ]
  },
  {
   "cell_type": "code",
   "execution_count": 2,
   "id": "e8d8bb42-0772-4bff-b849-cd4f5c657132",
   "metadata": {},
   "outputs": [
    {
     "name": "stdout",
     "output_type": "stream",
     "text": [
      "[112   1   5]\n"
     ]
    }
   ],
   "source": [
    "import numpy as np\n",
    "\n",
    "list=[112,1,5]\n",
    "arr=np.array(list)\n",
    "print(arr)"
   ]
  },
  {
   "cell_type": "code",
   "execution_count": 3,
   "id": "9b7c70b4-f186-4db0-a634-831adc60895c",
   "metadata": {},
   "outputs": [
    {
     "name": "stdout",
     "output_type": "stream",
     "text": [
      "42\n",
      "[2 4 5]\n",
      "[[2 3 4]\n",
      " [5 6 7]]\n",
      "[[[2, 4, 6], [2, 4, 5], [2, 4, 4]]]\n"
     ]
    }
   ],
   "source": [
    "a=np.array(42)\n",
    "b=np.array([2,4,5])\n",
    "c=np.array([[2,3,4],[5,6,7]])\n",
    "d=([[[2,4,6],[2,4,5],[2,4,4]]])\n",
    "print(a)\n",
    "print(b)\n",
    "print(c)\n",
    "print(d)"
   ]
  },
  {
   "cell_type": "code",
   "execution_count": 7,
   "id": "5091680c-c6f9-486a-aab7-018518e198e6",
   "metadata": {},
   "outputs": [
    {
     "name": "stdout",
     "output_type": "stream",
     "text": [
      "42\n",
      "[2 4 5]\n",
      "[[2 3 4]\n",
      " [5 6 7]]\n",
      "[[[2 4 6]\n",
      "  [2 4 5]\n",
      "  [2 4 4]\n",
      "  [2 3 3]]]\n",
      "0\n",
      "1\n",
      "2\n",
      "3\n"
     ]
    }
   ],
   "source": [
    "a=np.array(42)\n",
    "b=np.array([2,4,5])\n",
    "c=np.array([[2,3,4],[5,6,7]])\n",
    "d=np.array([[[2,4,6],[2,4,5],[2,4,4],[2,3,3]]])\n",
    "print(a)\n",
    "print(b)\n",
    "print(c)\n",
    "print(d)\n",
    "print(a.ndim)\n",
    "print(b.ndim)\n",
    "print(c.ndim)\n",
    "print(d.ndim)"
   ]
  },
  {
   "cell_type": "code",
   "execution_count": 8,
   "id": "576808dd-19d9-4f99-aeac-70e886a73f3d",
   "metadata": {},
   "outputs": [],
   "source": [
    "#shape \n",
    "#1d array-vector\n",
    "#2d array-matrix\n",
    "#3d array-tensor"
   ]
  },
  {
   "cell_type": "code",
   "execution_count": 12,
   "id": "d2ccb85b-fa83-446b-86bb-3ad6afc29d72",
   "metadata": {},
   "outputs": [
    {
     "name": "stdout",
     "output_type": "stream",
     "text": [
      "[[2 3 4]\n",
      " [5 6 7]]\n",
      "2\n",
      "(2, 3)\n"
     ]
    }
   ],
   "source": [
    "arr=np.array([[2,3,4],[5,6,7]])\n",
    "print(arr)\n",
    "print(arr.ndim)\n",
    "print(arr.shape)"
   ]
  },
  {
   "cell_type": "code",
   "execution_count": 13,
   "id": "bc7bd389-f38c-42b0-9388-9b1969373024",
   "metadata": {},
   "outputs": [],
   "source": [
    "#slicing\n"
   ]
  },
  {
   "cell_type": "code",
   "execution_count": 14,
   "id": "e2f8beee-b4e8-4645-b8d1-ec60eef27c89",
   "metadata": {},
   "outputs": [
    {
     "name": "stdout",
     "output_type": "stream",
     "text": [
      "[2 4]\n"
     ]
    }
   ],
   "source": [
    "arr=np.array([1,2,3,4,5,6,7])\n",
    "print(arr[1:5:2])"
   ]
  },
  {
   "cell_type": "code",
   "execution_count": 16,
   "id": "58d80e0e-358d-4c29-8e9e-3e40ddaf73ae",
   "metadata": {},
   "outputs": [
    {
     "name": "stdout",
     "output_type": "stream",
     "text": [
      "[2 3 4 5]\n",
      "[  1   2   3 100   5   6   7]\n",
      "[  2   3 100   5]\n"
     ]
    }
   ],
   "source": [
    "arr=np.array([1,2,3,4,5,6,7])\n",
    "sarr=arr[1:5]\n",
    "print(sarr)\n",
    "sarr[2]=100\n",
    "print(arr)\n",
    "print(sarr)"
   ]
  },
  {
   "cell_type": "code",
   "execution_count": 20,
   "id": "16d668f9-065d-4453-8fe6-64c10a4da018",
   "metadata": {},
   "outputs": [],
   "source": [
    "#difference between copy and view\n",
    "\n",
    "#the copy owns the data any changes made to the copy will not affect original array ,\n",
    "#and any changes made to the original array will not affect the copy \n",
    "\n",
    "# the view does'nt own the data and any changes made to the view will affect the original array and\n",
    "#any changes made to the original array will effect the view\n"
   ]
  },
  {
   "cell_type": "code",
   "execution_count": 21,
   "id": "2c242667-aeb6-4ab6-8c5a-45646fb3013d",
   "metadata": {},
   "outputs": [
    {
     "name": "stdout",
     "output_type": "stream",
     "text": [
      "[42  2  3  4  5  6  7]\n",
      "[1 2 3 4 5 6 7]\n"
     ]
    }
   ],
   "source": [
    "#copy\n",
    "\n",
    "arr=np.array([1,2,3,4,5,6,7])\n",
    "arr2=arr.copy()\n",
    "arr[0]=42\n",
    "print(arr)\n",
    "print(arr2)\n"
   ]
  },
  {
   "cell_type": "code",
   "execution_count": 26,
   "id": "0468e18c-10fd-48f8-a3a8-e6f2f572e9fc",
   "metadata": {},
   "outputs": [
    {
     "name": "stdout",
     "output_type": "stream",
     "text": [
      "[42  2  3  4  5  6  7]\n",
      "[42  2  3  4  5  6  7]\n"
     ]
    }
   ],
   "source": [
    "#view\n",
    "\n",
    "arr=np.array([1,2,3,4,5,6,7])\n",
    "arr2=arr.view()\n",
    "arr[0]=42\n",
    "print(arr)\n",
    "print(arr2)\n"
   ]
  },
  {
   "cell_type": "code",
   "execution_count": 23,
   "id": "9cb349a8-d963-43e9-a3e1-ad78fee8e38c",
   "metadata": {},
   "outputs": [
    {
     "data": {
      "text/plain": [
       "array([[0., 0.],\n",
       "       [0., 0.],\n",
       "       [0., 0.],\n",
       "       [0., 0.],\n",
       "       [0., 0.]])"
      ]
     },
     "execution_count": 23,
     "metadata": {},
     "output_type": "execute_result"
    }
   ],
   "source": [
    " #zeros\n",
    "\n",
    "a=np.zeros((5,2))\n",
    "a"
   ]
  },
  {
   "cell_type": "code",
   "execution_count": 27,
   "id": "d6e296ea-bac6-4938-8ede-8a528d019e29",
   "metadata": {},
   "outputs": [
    {
     "data": {
      "text/plain": [
       "array([[1., 1.],\n",
       "       [1., 1.],\n",
       "       [1., 1.],\n",
       "       [1., 1.],\n",
       "       [1., 1.]])"
      ]
     },
     "execution_count": 27,
     "metadata": {},
     "output_type": "execute_result"
    }
   ],
   "source": [
    "#ones\n",
    "a=np.ones((5,2))\n",
    "a"
   ]
  },
  {
   "cell_type": "code",
   "execution_count": 28,
   "id": "4df22f71-389c-4898-b4e6-ffbec88dfd68",
   "metadata": {},
   "outputs": [
    {
     "data": {
      "text/plain": [
       "array([[10., 10.],\n",
       "       [10., 10.],\n",
       "       [10., 10.],\n",
       "       [10., 10.],\n",
       "       [10., 10.]])"
      ]
     },
     "execution_count": 28,
     "metadata": {},
     "output_type": "execute_result"
    }
   ],
   "source": [
    "a=np.ones((5,2))*10\n",
    "a"
   ]
  },
  {
   "cell_type": "code",
   "execution_count": 29,
   "id": "ca5f3aaa-fe4b-4479-a129-d2cc223acd52",
   "metadata": {},
   "outputs": [
    {
     "name": "stdout",
     "output_type": "stream",
     "text": [
      "[1 1 1 1 1 1]\n"
     ]
    }
   ],
   "source": [
    "a=np.ones((6,),dtype=int)\n",
    "print(a)"
   ]
  },
  {
   "cell_type": "code",
   "execution_count": 32,
   "id": "e860620c-b944-40fc-b298-639d5607ae53",
   "metadata": {},
   "outputs": [
    {
     "name": "stdout",
     "output_type": "stream",
     "text": [
      "[(1, 1.) (1, 1.) (1, 1.) (1, 1.) (1, 1.) (1, 1.)]\n"
     ]
    }
   ],
   "source": [
    "#create array with hetrogenous datatype\n",
    "a=np.ones((6,),dtype=[('x','int'),('y','float')])\n",
    "print(a)"
   ]
  },
  {
   "cell_type": "code",
   "execution_count": 34,
   "id": "ab0d7476-e4b1-4092-81d0-c9b640953718",
   "metadata": {},
   "outputs": [
    {
     "data": {
      "text/plain": [
       "array([[1., 0., 0.],\n",
       "       [0., 1., 0.],\n",
       "       [0., 0., 1.]])"
      ]
     },
     "execution_count": 34,
     "metadata": {},
     "output_type": "execute_result"
    }
   ],
   "source": [
    "#eye function is used to give number diagonally\n",
    "\n",
    "arr4=np.eye(3)\n",
    "arr4"
   ]
  },
  {
   "cell_type": "code",
   "execution_count": 36,
   "id": "2a2cc58e-17e4-416b-99a4-a1144066caf5",
   "metadata": {},
   "outputs": [
    {
     "name": "stdout",
     "output_type": "stream",
     "text": [
      "[[1. 0. 0.]\n",
      " [0. 1. 0.]\n",
      " [0. 0. 1.]]\n",
      "[[1. 0. 0. 0.]\n",
      " [0. 1. 0. 0.]\n",
      " [0. 0. 1. 0.]]\n"
     ]
    }
   ],
   "source": [
    "arr4=np.eye(3)\n",
    "print(arr4)\n",
    "arr4=np.eye(3,4)\n",
    "print(arr4)"
   ]
  },
  {
   "cell_type": "code",
   "execution_count": 40,
   "id": "d7b29738-97eb-4eba-b978-82e2a3aa0360",
   "metadata": {},
   "outputs": [
    {
     "name": "stdout",
     "output_type": "stream",
     "text": [
      "2\n",
      "(4, 4)\n"
     ]
    }
   ],
   "source": [
    "#diag \n",
    "arr5=np.diag((3,4,3,5))\n",
    "arr5\n",
    "print(arr5.ndim)\n",
    "print(arr5.shape)"
   ]
  },
  {
   "cell_type": "code",
   "execution_count": null,
   "id": "125227bc-5f5a-4597-aaf8-3ee3cc49cccf",
   "metadata": {},
   "outputs": [],
   "source": [
    " "
   ]
  }
 ],
 "metadata": {
  "kernelspec": {
   "display_name": "Python 3 (ipykernel)",
   "language": "python",
   "name": "python3"
  },
  "language_info": {
   "codemirror_mode": {
    "name": "ipython",
    "version": 3
   },
   "file_extension": ".py",
   "mimetype": "text/x-python",
   "name": "python",
   "nbconvert_exporter": "python",
   "pygments_lexer": "ipython3",
   "version": "3.12.2"
  }
 },
 "nbformat": 4,
 "nbformat_minor": 5
}
