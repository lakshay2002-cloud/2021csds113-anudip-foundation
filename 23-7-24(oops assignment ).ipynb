{
 "cells": [
  {
   "cell_type": "code",
   "execution_count": 2,
   "id": "0722febc-fa45-49b7-86b9-fa50e5542ba1",
   "metadata": {},
   "outputs": [
    {
     "name": "stdout",
     "output_type": "stream",
     "text": [
      "line 1\n",
      "line 2\n",
      "line 3\n",
      "line 4\n"
     ]
    },
    {
     "name": "stdin",
     "output_type": "stream",
     "text": [
      "enter first number 100\n",
      "enter division muber 0\n"
     ]
    },
    {
     "name": "stdout",
     "output_type": "stream",
     "text": [
      "division by zero\n",
      "line  6\n"
     ]
    }
   ],
   "source": [
    "# oops assignment \n",
    "#ques 1 \n",
    "#write a python program to handle a zerodivisionerroor exception when dividing a number by zero \n",
    "#exception handling\n",
    "print(\"line 1\")\n",
    "print(\"line 2\")\n",
    "print(\"line 3\")\n",
    "print(\"line 4\")\n",
    "num1=int(input(\"enter first number\"))\n",
    "num2=int(input(\"enter division muber\"))\n",
    "try:\n",
    "    print(num1/num2)\n",
    "    print(\"inside a try \")\n",
    "except ZeroDivisionError as e:\n",
    "    print(e)\n",
    "print(\"line  6\")"
   ]
  },
  {
   "cell_type": "code",
   "execution_count": 4,
   "id": "192164f2-2f9f-4e44-b47e-41011547f301",
   "metadata": {},
   "outputs": [
    {
     "name": "stdin",
     "output_type": "stream",
     "text": [
      "Please enter an integer:  rt\n"
     ]
    },
    {
     "name": "stdout",
     "output_type": "stream",
     "text": [
      "That's not a valid integer. Please try again.\n"
     ]
    },
    {
     "name": "stdin",
     "output_type": "stream",
     "text": [
      "Please enter an integer:  67\n"
     ]
    },
    {
     "name": "stdout",
     "output_type": "stream",
     "text": [
      "You entered the integer\n"
     ]
    }
   ],
   "source": [
    "#ques"
   ]
  },
  {
   "cell_type": "code",
   "execution_count": 14,
   "id": "8feab9bc-ca2e-4a88-8f2a-bece2c1020f7",
   "metadata": {},
   "outputs": [
    {
     "name": "stdin",
     "output_type": "stream",
     "text": [
      "enter first number 100\n",
      "enter division muber 10\n"
     ]
    },
    {
     "name": "stdout",
     "output_type": "stream",
     "text": [
      "10.0\n",
      "[Errno 2] No such file or directory: 'anudipfoundation.txt'\n",
      "line  6\n"
     ]
    }
   ],
   "source": [
    "#ques 3 \n",
    "#write a python program that open a file and handles a FileNotFoundError exception if the file does not exist\n",
    "num1=int(input(\"enter first number\"))\n",
    "num2=int(input(\"enter division muber\"))\n",
    "try:\n",
    "    print(num1/num2)\n",
    "    open(\"anudipfoundation.txt\")\n",
    "except FileNotFoundError as e:\n",
    "    print(e)\n",
    "print(\"line  6\")"
   ]
  },
  {
   "cell_type": "code",
   "execution_count": null,
   "id": "179967d0-e08f-4cc7-abcd-dc433d4668ad",
   "metadata": {},
   "outputs": [],
   "source": [
    "#ques 4 \n",
    "# write a python program that prompts the user to input the two numbers and raise a TypeError exception if the inputs are not numerical \n"
   ]
  }
 ],
 "metadata": {
  "kernelspec": {
   "display_name": "Python 3 (ipykernel)",
   "language": "python",
   "name": "python3"
  },
  "language_info": {
   "codemirror_mode": {
    "name": "ipython",
    "version": 3
   },
   "file_extension": ".py",
   "mimetype": "text/x-python",
   "name": "python",
   "nbconvert_exporter": "python",
   "pygments_lexer": "ipython3",
   "version": "3.12.4"
  }
 },
 "nbformat": 4,
 "nbformat_minor": 5
}
