{
 "cells": [
  {
   "cell_type": "code",
   "execution_count": 1,
   "id": "cb703f78-59bc-4dbc-a817-3b2ef706ba2f",
   "metadata": {},
   "outputs": [
    {
     "name": "stdout",
     "output_type": "stream",
     "text": [
      "study 3 hour \n"
     ]
    }
   ],
   "source": [
    "class student :\n",
    "    name=\"\"\n",
    "    age=0\n",
    "    def study(self):\n",
    "        print(\"study 3 hour \")\n",
    "\n",
    "\n",
    "\n",
    "\n",
    "\n",
    "obj=student()\n",
    "obj.study()"
   ]
  },
  {
   "cell_type": "code",
   "execution_count": 3,
   "id": "02f86f36-97a6-424b-9aa0-400d5c264bbc",
   "metadata": {},
   "outputs": [
    {
     "ename": "NameError",
     "evalue": "name 'name' is not defined",
     "output_type": "error",
     "traceback": [
      "\u001b[1;31m---------------------------------------------------------------------------\u001b[0m",
      "\u001b[1;31mNameError\u001b[0m                                 Traceback (most recent call last)",
      "Cell \u001b[1;32mIn[3], line 12\u001b[0m\n\u001b[0;32m      5\u001b[0m         \u001b[38;5;28mprint\u001b[39m(\u001b[38;5;124m\"\u001b[39m\u001b[38;5;124mstudy 3 hour \u001b[39m\u001b[38;5;124m\"\u001b[39m,name)\n\u001b[0;32m     11\u001b[0m obj\u001b[38;5;241m=\u001b[39mstudent()\n\u001b[1;32m---> 12\u001b[0m obj\u001b[38;5;241m.\u001b[39mstudy()\n",
      "Cell \u001b[1;32mIn[3], line 5\u001b[0m, in \u001b[0;36mstudent.study\u001b[1;34m(self)\u001b[0m\n\u001b[0;32m      4\u001b[0m \u001b[38;5;28;01mdef\u001b[39;00m \u001b[38;5;21mstudy\u001b[39m(\u001b[38;5;28mself\u001b[39m):\n\u001b[1;32m----> 5\u001b[0m     \u001b[38;5;28mprint\u001b[39m(\u001b[38;5;124m\"\u001b[39m\u001b[38;5;124mstudy 3 hour \u001b[39m\u001b[38;5;124m\"\u001b[39m,name)\n",
      "\u001b[1;31mNameError\u001b[0m: name 'name' is not defined"
     ]
    }
   ],
   "source": [
    "class student :\n",
    "    name=\"kyz\"\n",
    "    age=0\n",
    "    def study(self):\n",
    "        print(\"study 3 hour \",name)\n",
    "\n",
    "\n",
    "\n",
    "\n",
    "\n",
    "obj=student()\n",
    "obj.study()"
   ]
  },
  {
   "cell_type": "code",
   "execution_count": 5,
   "id": "02fc0457-4c5f-42f1-a300-0b8055acaf69",
   "metadata": {},
   "outputs": [
    {
     "name": "stdout",
     "output_type": "stream",
     "text": [
      "study 3 hour  kyz\n"
     ]
    }
   ],
   "source": [
    "class student :\n",
    "    name=\"kyz\"\n",
    "    age=0\n",
    "    def study(self):\n",
    "        print(\"study 3 hour \",self.name)\n",
    "\n",
    "\n",
    "\n",
    "\n",
    "\n",
    "obj=student()\n",
    "obj.study()"
   ]
  },
  {
   "cell_type": "code",
   "execution_count": 11,
   "id": "134dc023-a040-4069-8bd2-9e24dedc236f",
   "metadata": {},
   "outputs": [
    {
     "name": "stdout",
     "output_type": "stream",
     "text": [
      "study 3 hour  kyz\n"
     ]
    },
    {
     "ename": "NameError",
     "evalue": "name 'sleep' is not defined",
     "output_type": "error",
     "traceback": [
      "\u001b[1;31m---------------------------------------------------------------------------\u001b[0m",
      "\u001b[1;31mNameError\u001b[0m                                 Traceback (most recent call last)",
      "Cell \u001b[1;32mIn[11], line 16\u001b[0m\n\u001b[0;32m      9\u001b[0m         \u001b[38;5;28mprint\u001b[39m(\u001b[38;5;124m\"\u001b[39m\u001b[38;5;124msleep 1 hour \u001b[39m\u001b[38;5;124m\"\u001b[39m)\n\u001b[0;32m     15\u001b[0m obj\u001b[38;5;241m=\u001b[39mstudent()\n\u001b[1;32m---> 16\u001b[0m obj\u001b[38;5;241m.\u001b[39mstudy()\n",
      "Cell \u001b[1;32mIn[11], line 6\u001b[0m, in \u001b[0;36mstudent.study\u001b[1;34m(self)\u001b[0m\n\u001b[0;32m      4\u001b[0m \u001b[38;5;28;01mdef\u001b[39;00m \u001b[38;5;21mstudy\u001b[39m(\u001b[38;5;28mself\u001b[39m):\n\u001b[0;32m      5\u001b[0m     \u001b[38;5;28mprint\u001b[39m(\u001b[38;5;124m\"\u001b[39m\u001b[38;5;124mstudy 3 hour \u001b[39m\u001b[38;5;124m\"\u001b[39m,\u001b[38;5;28mself\u001b[39m\u001b[38;5;241m.\u001b[39mname)\n\u001b[1;32m----> 6\u001b[0m     sleep ()\n",
      "\u001b[1;31mNameError\u001b[0m: name 'sleep' is not defined"
     ]
    }
   ],
   "source": [
    "class student :\n",
    "    name=\"kyz\"\n",
    "    age=0\n",
    "    def study(self):\n",
    "        print(\"study 3 hour \",self.name)\n",
    "        sleep ()\n",
    "        \n",
    "    def sleep (self):\n",
    "        print(\"sleep 1 hour \")\n",
    "\n",
    "\n",
    "\n",
    "\n",
    "\n",
    "obj=student()\n",
    "obj.study()"
   ]
  },
  {
   "cell_type": "code",
   "execution_count": 15,
   "id": "581cebc8-c4ac-4aa2-9fe3-81aa864074f0",
   "metadata": {},
   "outputs": [
    {
     "name": "stdout",
     "output_type": "stream",
     "text": [
      "study 3 hour  kyz\n",
      "sleep 1 hour \n"
     ]
    }
   ],
   "source": [
    "class student :\n",
    "    name=\"kyz\"\n",
    "    age=0\n",
    "    def study(self):\n",
    "        print(\"study 3 hour \",self.name)\n",
    "        self.sleep ()\n",
    "        \n",
    "    def sleep (self):\n",
    "        print(\"sleep 1 hour \")\n",
    "\n",
    "\n",
    "\n",
    "\n",
    "\n",
    "obj=student()\n",
    "obj.study()"
   ]
  },
  {
   "cell_type": "code",
   "execution_count": 23,
   "id": "e380584d-0659-4b72-b051-3b08b2e2385b",
   "metadata": {},
   "outputs": [
    {
     "name": "stdout",
     "output_type": "stream",
     "text": [
      "study 3 hour  kyz\n"
     ]
    }
   ],
   "source": [
    "class student :\n",
    "    name=\"kyz\"\n",
    "    age=0\n",
    "    def study(self):\n",
    "        print(\"study 3 hour \",self.name)\n",
    "        \n",
    "    def sleep (self):\n",
    "        print(\"sleep 1 hour \")\n",
    "        study()\n",
    "\n",
    "\n",
    "\n",
    "\n",
    "\n",
    "obj=student()\n",
    "obj.study()"
   ]
  },
  {
   "cell_type": "code",
   "execution_count": 27,
   "id": "48207b0b-66be-43e1-a40b-3cd820574555",
   "metadata": {},
   "outputs": [
    {
     "name": "stdout",
     "output_type": "stream",
     "text": [
      "this is show method \n"
     ]
    },
    {
     "ename": "AttributeError",
     "evalue": "'C' object has no attribute 'demo'",
     "output_type": "error",
     "traceback": [
      "\u001b[1;31m---------------------------------------------------------------------------\u001b[0m",
      "\u001b[1;31mAttributeError\u001b[0m                            Traceback (most recent call last)",
      "Cell \u001b[1;32mIn[27], line 17\u001b[0m\n\u001b[0;32m     15\u001b[0m obj\u001b[38;5;241m=\u001b[39mC()\n\u001b[0;32m     16\u001b[0m obj\u001b[38;5;241m.\u001b[39mshow()\n\u001b[1;32m---> 17\u001b[0m obj\u001b[38;5;241m.\u001b[39mdemo()\n",
      "\u001b[1;31mAttributeError\u001b[0m: 'C' object has no attribute 'demo'"
     ]
    }
   ],
   "source": [
    "#inheritance \n",
    "class A:\n",
    "    def show (self):\n",
    "        print(\"this is show method \")\n",
    "class B(A):\n",
    "    def demo(self):\n",
    "        print(\"demo method\")\n",
    "\n",
    "class C(A):\n",
    "    pass \n",
    "\n",
    "class D(B,C):\n",
    "    pass\n",
    "\n",
    "obj=C()\n",
    "obj.show()\n",
    "obj.demo()"
   ]
  },
  {
   "cell_type": "code",
   "execution_count": 29,
   "id": "56858a6c-ffa1-4d9c-a105-99761528bd24",
   "metadata": {},
   "outputs": [
    {
     "ename": "TypeError",
     "evalue": "setData() missing 1 required positional argument: 'age'",
     "output_type": "error",
     "traceback": [
      "\u001b[1;31m---------------------------------------------------------------------------\u001b[0m",
      "\u001b[1;31mTypeError\u001b[0m                                 Traceback (most recent call last)",
      "Cell \u001b[1;32mIn[29], line 8\u001b[0m\n\u001b[0;32m      5\u001b[0m \u001b[38;5;28;01mdef\u001b[39;00m \u001b[38;5;21msetData\u001b[39m(\u001b[38;5;28mid\u001b[39m,name,age):\n\u001b[0;32m      6\u001b[0m     \u001b[38;5;28mprint\u001b[39m(\u001b[38;5;124m\"\u001b[39m\u001b[38;5;124mid,name,age\u001b[39m\u001b[38;5;124m\"\u001b[39m)\n\u001b[1;32m----> 8\u001b[0m setData(\u001b[38;5;241m101\u001b[39m,\u001b[38;5;124m\"\u001b[39m\u001b[38;5;124msanjay\u001b[39m\u001b[38;5;124m\"\u001b[39m)\n",
      "\u001b[1;31mTypeError\u001b[0m: setData() missing 1 required positional argument: 'age'"
     ]
    }
   ],
   "source": [
    "#polymorphism \n",
    "def setData(id,name):\n",
    "    print(\"id,name\")\n",
    "\n",
    "def setData(id,name,age):\n",
    "    print(\"id,name,age\")\n",
    "\n",
    "setData(101,\"sanjay\")"
   ]
  },
  {
   "cell_type": "code",
   "execution_count": 31,
   "id": "c59e31ac-a725-4f8c-8dcc-1e14f9ee95f8",
   "metadata": {},
   "outputs": [
    {
     "name": "stdout",
     "output_type": "stream",
     "text": [
      "id,name,age\n"
     ]
    }
   ],
   "source": [
    "#polymorphism (function over ride)\n",
    "def setData(id,name):\n",
    "    print(\"id,name\")\n",
    "\n",
    "def setData(id,name,age):\n",
    "    print(\"id,name,age\")\n",
    "\n",
    "setData(101,\"sanjay\",18)"
   ]
  },
  {
   "cell_type": "code",
   "execution_count": 33,
   "id": "d00f5360-05b7-411d-9ed2-ff2a97b78e17",
   "metadata": {},
   "outputs": [
    {
     "name": "stdout",
     "output_type": "stream",
     "text": [
      "60\n",
      "30\n"
     ]
    }
   ],
   "source": [
    "def sum(a,b,c=0):\n",
    "    print(a+b+c)\n",
    "\n",
    "sum(10,20,30)\n",
    "sum(10,20)"
   ]
  },
  {
   "cell_type": "code",
   "execution_count": 35,
   "id": "69e53217-6978-418b-9a51-87a4e11a9e52",
   "metadata": {},
   "outputs": [],
   "source": [
    "#method overriding\n",
    "#polymorphism with inheritance:\n",
    "#polymorphism lets us define method in the child class tha thave the same name as the method in the present class.\n",
    "#in inheritance,the  child class inherits the merthod from the present class.howwever,it is possible to modify a method in a child class that it has inherited from the parent class.\n",
    "# this is particularly useful in cases where the method inherited from th eparent class doesn't quite fit the child class."
   ]
  },
  {
   "cell_type": "code",
   "execution_count": 37,
   "id": "5bfd67a6-bad4-4ef1-86e8-ffdca359c05b",
   "metadata": {},
   "outputs": [],
   "source": [
    "class Bird:\n",
    "    def intro(self):\n",
    "        print(\"there are many type of birds\")\n",
    "    def flight(self):\n",
    "        print(\"most of the bird fly but some cant\")\n",
    "\n",
    "class sparrow(Bird):\n",
    "    def flight(self):\n",
    "        print(\"i can fly\")\n",
    "\n",
    "class ostrich (Bird):\n",
    "    def flight (self):\n",
    "        print(\"i can't fly\")"
   ]
  },
  {
   "cell_type": "code",
   "execution_count": 39,
   "id": "50821e47-6757-4fa3-bccf-5854b4869532",
   "metadata": {},
   "outputs": [
    {
     "ename": "NameError",
     "evalue": "name 'name' is not defined",
     "output_type": "error",
     "traceback": [
      "\u001b[1;31m---------------------------------------------------------------------------\u001b[0m",
      "\u001b[1;31mNameError\u001b[0m                                 Traceback (most recent call last)",
      "Cell \u001b[1;32mIn[39], line 11\u001b[0m\n\u001b[0;32m      8\u001b[0m         \u001b[38;5;28mprint\u001b[39m(\u001b[38;5;124m\"\u001b[39m\u001b[38;5;124mthis is show method\u001b[39m\u001b[38;5;124m\"\u001b[39m,name)\n\u001b[0;32m     10\u001b[0m obj\u001b[38;5;241m=\u001b[39mB()\n\u001b[1;32m---> 11\u001b[0m obj\u001b[38;5;241m.\u001b[39mshow()\n",
      "Cell \u001b[1;32mIn[39], line 8\u001b[0m, in \u001b[0;36mB.show\u001b[1;34m(self)\u001b[0m\n\u001b[0;32m      7\u001b[0m \u001b[38;5;28;01mdef\u001b[39;00m \u001b[38;5;21mshow\u001b[39m(\u001b[38;5;28mself\u001b[39m):\n\u001b[1;32m----> 8\u001b[0m     \u001b[38;5;28mprint\u001b[39m(\u001b[38;5;124m\"\u001b[39m\u001b[38;5;124mthis is show method\u001b[39m\u001b[38;5;124m\"\u001b[39m,name)\n",
      "\u001b[1;31mNameError\u001b[0m: name 'name' is not defined"
     ]
    }
   ],
   "source": [
    "#encapsulation\n",
    "\n",
    "class A:\n",
    "    name=\"abc\"\n",
    "\n",
    "class B(A):\n",
    "    def show(self):\n",
    "        print(\"this is show method\",name)\n",
    "\n",
    "obj=B()\n",
    "obj.show()"
   ]
  },
  {
   "cell_type": "code",
   "execution_count": 45,
   "id": "fa657fc0-d6e2-438d-bfd9-c6ed425ef366",
   "metadata": {},
   "outputs": [
    {
     "name": "stdout",
     "output_type": "stream",
     "text": [
      "this is show method abc\n"
     ]
    }
   ],
   "source": [
    "#encapsulation\n",
    "\n",
    "class A:\n",
    "    name=\"abc\"\n",
    "\n",
    "class B(A):\n",
    "    def show(self):\n",
    "        print(\"this is show method\",self.name)\n",
    "\n",
    "obj=B()\n",
    "obj.show()"
   ]
  },
  {
   "cell_type": "code",
   "execution_count": 51,
   "id": "50ebb01d-8e16-4956-8a03-eb8545b8c29e",
   "metadata": {},
   "outputs": [
    {
     "name": "stdout",
     "output_type": "stream",
     "text": [
      "line 1\n",
      "line 2\n",
      "line 3\n",
      "line 4\n"
     ]
    },
    {
     "name": "stdin",
     "output_type": "stream",
     "text": [
      "enter first number 2\n",
      "enter division muber 12\n"
     ]
    },
    {
     "ename": "TypeError",
     "evalue": "unsupported operand type(s) for /: 'str' and 'str'",
     "output_type": "error",
     "traceback": [
      "\u001b[1;31m---------------------------------------------------------------------------\u001b[0m",
      "\u001b[1;31mTypeError\u001b[0m                                 Traceback (most recent call last)",
      "Cell \u001b[1;32mIn[51], line 10\u001b[0m\n\u001b[0;32m      7\u001b[0m num1\u001b[38;5;241m=\u001b[39m\u001b[38;5;28minput\u001b[39m(\u001b[38;5;124m\"\u001b[39m\u001b[38;5;124menter first number\u001b[39m\u001b[38;5;124m\"\u001b[39m)\n\u001b[0;32m      8\u001b[0m num2\u001b[38;5;241m=\u001b[39m\u001b[38;5;28minput\u001b[39m(\u001b[38;5;124m\"\u001b[39m\u001b[38;5;124menter division muber\u001b[39m\u001b[38;5;124m\"\u001b[39m)\n\u001b[1;32m---> 10\u001b[0m \u001b[38;5;28mprint\u001b[39m(num1\u001b[38;5;241m/\u001b[39mnum2)\n\u001b[0;32m     11\u001b[0m \u001b[38;5;28mprint\u001b[39m(\u001b[38;5;124m\"\u001b[39m\u001b[38;5;124mline 5\u001b[39m\u001b[38;5;124m\"\u001b[39m)\n\u001b[0;32m     12\u001b[0m \u001b[38;5;28mprint\u001b[39m(\u001b[38;5;124m\"\u001b[39m\u001b[38;5;124mline  6\u001b[39m\u001b[38;5;124m\"\u001b[39m)\n",
      "\u001b[1;31mTypeError\u001b[0m: unsupported operand type(s) for /: 'str' and 'str'"
     ]
    }
   ],
   "source": [
    "#exception handling\n",
    "print(\"line 1\")\n",
    "print(\"line 2\")\n",
    "print(\"line 3\")\n",
    "\n",
    "print(\"line 4\")\n",
    "num1=input(\"enter first number\")\n",
    "num2=input(\"enter division muber\")\n",
    "\n",
    "print(num1/num2)\n",
    "print(\"line 5\")\n",
    "print(\"line  6\")"
   ]
  },
  {
   "cell_type": "code",
   "execution_count": 59,
   "id": "d180aa89-fdc7-48f0-9d25-9ff4c791861d",
   "metadata": {},
   "outputs": [
    {
     "name": "stdout",
     "output_type": "stream",
     "text": [
      "line 1\n",
      "line 2\n",
      "line 3\n",
      "line 4\n"
     ]
    },
    {
     "name": "stdin",
     "output_type": "stream",
     "text": [
      "enter first number 100\n",
      "enter division muber 0\n"
     ]
    },
    {
     "name": "stdout",
     "output_type": "stream",
     "text": [
      "division by zero\n",
      "line  6\n"
     ]
    }
   ],
   "source": [
    "#exception handling\n",
    "print(\"line 1\")\n",
    "print(\"line 2\")\n",
    "print(\"line 3\")\n",
    "print(\"line 4\")\n",
    "num1=int(input(\"enter first number\"))\n",
    "num2=int(input(\"enter division muber\"))\n",
    "try:\n",
    "    print(num1/num2)\n",
    "    print(\"inside a try \")\n",
    "except ZeroDivisionError as e:\n",
    "    print(e)\n",
    "print(\"line  6\")"
   ]
  },
  {
   "cell_type": "code",
   "execution_count": 69,
   "id": "1bc4412c-1d38-493d-84ec-5fc19329c936",
   "metadata": {},
   "outputs": [
    {
     "name": "stdout",
     "output_type": "stream",
     "text": [
      "line 1\n",
      "line 2\n",
      "line 3\n",
      "line 4\n"
     ]
    },
    {
     "name": "stdin",
     "output_type": "stream",
     "text": [
      "enter first number 56\n",
      "enter division muber 67\n"
     ]
    },
    {
     "name": "stdout",
     "output_type": "stream",
     "text": [
      "0.835820895522388\n",
      "line  6\n"
     ]
    }
   ],
   "source": [
    "print(\"line 1\")\n",
    "print(\"line 2\")\n",
    "print(\"line 3\")\n",
    "print(\"line 4\")\n",
    "num1=int(input(\"enter first number\"))\n",
    "num2=int(input(\"enter division muber\"))\n",
    "try:\n",
    "    print(num1/num2)\n",
    "    open(\"anudip.txt\")\n",
    "except ZeroDivisionError as e:\n",
    "    print(e)\n",
    "except FileNotFoundError as e:\n",
    "    print(e)\n",
    "print(\"line  6\")"
   ]
  },
  {
   "cell_type": "code",
   "execution_count": 77,
   "id": "0b9f5c2a-0768-4970-8ac5-e1c3b3d30a62",
   "metadata": {},
   "outputs": [
    {
     "name": "stdout",
     "output_type": "stream",
     "text": [
      "line 1\n",
      "line 2\n",
      "line 3\n",
      "line 4\n"
     ]
    },
    {
     "name": "stdin",
     "output_type": "stream",
     "text": [
      "enter first number 123\n",
      "enter division muber 0\n"
     ]
    },
    {
     "name": "stdout",
     "output_type": "stream",
     "text": [
      "something went wrong \n",
      "line  6\n"
     ]
    }
   ],
   "source": [
    "print(\"line 1\")\n",
    "print(\"line 2\")\n",
    "print(\"line 3\")\n",
    "print(\"line 4\")\n",
    "num1=int(input(\"enter first number\"))\n",
    "num2=int(input(\"enter division muber\"))\n",
    "try:\n",
    "    print(num1/num2)\n",
    "    open(\"anudip.txt\")\n",
    "except (ZeroDivisionError, FileNotFoundError):\n",
    "    print(\"something went wrong \")\n",
    "print(\"line  6\")"
   ]
  },
  {
   "cell_type": "code",
   "execution_count": 87,
   "id": "6c47423f-f31d-42b3-b209-ae59a09b08c0",
   "metadata": {},
   "outputs": [
    {
     "name": "stdout",
     "output_type": "stream",
     "text": [
      "line 1\n",
      "line 2\n",
      "line 3\n",
      "line 4\n"
     ]
    },
    {
     "name": "stdin",
     "output_type": "stream",
     "text": [
      "enter first number 50\n",
      "enter division muber 5\n"
     ]
    },
    {
     "name": "stdout",
     "output_type": "stream",
     "text": [
      "10.0\n",
      "else block\n",
      "final block\n",
      "line  6\n"
     ]
    }
   ],
   "source": [
    "print(\"line 1\")\n",
    "print(\"line 2\")\n",
    "print(\"line 3\")\n",
    "print(\"line 4\")\n",
    "num1=int(input(\"enter first number\"))\n",
    "num2=int(input(\"enter division muber\"))\n",
    "try:\n",
    "    print(num1/num2)\n",
    "    open(\"anudip.txt\")\n",
    "except :\n",
    "    print(\"something went wrong\")\n",
    "else :\n",
    "    print(\"else block\")\n",
    "finally:\n",
    "    print(\"final block\")\n",
    "\n",
    "print(\"line  6\")\n"
   ]
  },
  {
   "cell_type": "code",
   "execution_count": null,
   "id": "5a274b33-0a4e-467e-8d7b-4b411bfcbe4f",
   "metadata": {},
   "outputs": [],
   "source": []
  }
 ],
 "metadata": {
  "kernelspec": {
   "display_name": "Python 3 (ipykernel)",
   "language": "python",
   "name": "python3"
  },
  "language_info": {
   "codemirror_mode": {
    "name": "ipython",
    "version": 3
   },
   "file_extension": ".py",
   "mimetype": "text/x-python",
   "name": "python",
   "nbconvert_exporter": "python",
   "pygments_lexer": "ipython3",
   "version": "3.12.4"
  }
 },
 "nbformat": 4,
 "nbformat_minor": 5
}
