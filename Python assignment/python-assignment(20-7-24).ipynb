{
 "cells": [
  {
   "cell_type": "code",
   "execution_count": 2,
   "id": "fa05b092-77ce-469d-9abe-c883c365eb30",
   "metadata": {},
   "outputs": [],
   "source": [
    "#python assignment date=20-7-24\n"
   ]
  },
  {
   "cell_type": "code",
   "execution_count": 6,
   "id": "de94ae62-36cc-4c2c-b4af-9b90ea5d1763",
   "metadata": {},
   "outputs": [],
   "source": [
    "#part1 \n",
    "#ques1 -Declare a div() function with two parameters. Then call the function and pass two numbers and display their division.\n"
   ]
  },
  {
   "cell_type": "code",
   "execution_count": 8,
   "id": "75ea8a54-6ae7-428f-9b6a-9ccc4127686b",
   "metadata": {},
   "outputs": [
    {
     "name": "stdout",
     "output_type": "stream",
     "text": [
      "The result of dividing 10 by 2 is 5.0\n"
     ]
    }
   ],
   "source": [
    "def div(num1, num2):\n",
    "    if num2 == 0:\n",
    "        return \"Error: Division by zero is not allowed.\"\n",
    "    return num1 / num2\n",
    "number1 = 10\n",
    "number2 = 2\n",
    "result = div(number1, number2)\n",
    "print(f\"The result of dividing {number1} by {number2} is {result}\")\n"
   ]
  },
  {
   "cell_type": "code",
   "execution_count": 10,
   "id": "2669c486-6ad1-4b47-bfa8-b19b12f36915",
   "metadata": {},
   "outputs": [],
   "source": [
    "#ques2-Declare a square() function with one parameter.Then call the function and pass one number and display the square of that number ."
   ]
  },
  {
   "cell_type": "code",
   "execution_count": 12,
   "id": "963e4448-02fe-4372-8c89-29ffa7229013",
   "metadata": {},
   "outputs": [
    {
     "name": "stdout",
     "output_type": "stream",
     "text": [
      "The square of 5 is 25\n"
     ]
    }
   ],
   "source": [
    "def square(num):\n",
    "    return num ** 2\n",
    "number = 5\n",
    "result = square(number)\n",
    "print(f\"The square of {number} is {result}\")\n"
   ]
  },
  {
   "cell_type": "code",
   "execution_count": 14,
   "id": "aed79bf7-f9e5-467f-bb87-f359b2d3e7bc",
   "metadata": {},
   "outputs": [],
   "source": [
    "#ques3-Using max() and min() functions display the maximum and minimum of 5 random numbers."
   ]
  },
  {
   "cell_type": "code",
   "execution_count": 16,
   "id": "3d08646a-2e85-448e-bb29-7de4300a8384",
   "metadata": {},
   "outputs": [
    {
     "name": "stdout",
     "output_type": "stream",
     "text": [
      "Random numbers: [38, 1, 86, 95, 84]\n",
      "Maximum number: 95\n",
      "Minimum number: 1\n"
     ]
    }
   ],
   "source": [
    "import random\n",
    "random_numbers = [random.randint(1, 100) for _ in range(5)]\n",
    "max_number = max(random_numbers)\n",
    "min_number = min(random_numbers)\n",
    "print(f\"Random numbers: {random_numbers}\")\n",
    "print(f\"Maximum number: {max_number}\")\n",
    "print(f\"Minimum number: {min_number}\")\n"
   ]
  },
  {
   "cell_type": "code",
   "execution_count": 18,
   "id": "6546e99c-5c69-48a1-9b40-687fb4b53dfd",
   "metadata": {},
   "outputs": [],
   "source": [
    "#ques4 - Accept a name from the user and display that in lower case using lower() function"
   ]
  },
  {
   "cell_type": "code",
   "execution_count": 20,
   "id": "b0234929-cd7c-4abb-ba8f-ccb82f92df0d",
   "metadata": {},
   "outputs": [
    {
     "name": "stdin",
     "output_type": "stream",
     "text": [
      "Please enter your name:  LAKSHAY\n"
     ]
    },
    {
     "name": "stdout",
     "output_type": "stream",
     "text": [
      "Your name in lowercase is: lakshay\n"
     ]
    }
   ],
   "source": [
    "name = input(\"Please enter your name: \")\n",
    "name_lowercase = name.lower()\n",
    "print(f\"Your name in lowercase is: {name_lowercase}\")\n"
   ]
  },
  {
   "cell_type": "code",
   "execution_count": 24,
   "id": "198e75e6-e203-47af-a2c0-2c6105076d2e",
   "metadata": {},
   "outputs": [],
   "source": [
    "#part 2 \n",
    "#ques 1 -Write a Python program to count the occurrences of each word in a given sentence\n",
    "#string = “To change the overall look of your document. To change the look available in the gallery”"
   ]
  },
  {
   "cell_type": "code",
   "execution_count": 26,
   "id": "5f16314f-7a6e-48f3-ac60-bc6116f1c73d",
   "metadata": {},
   "outputs": [
    {
     "name": "stdout",
     "output_type": "stream",
     "text": [
      "'to': 2\n",
      "'change': 2\n",
      "'the': 3\n",
      "'overall': 1\n",
      "'look': 2\n",
      "'of': 1\n",
      "'your': 1\n",
      "'document': 1\n",
      "'available': 1\n",
      "'in': 1\n",
      "'gallery': 1\n"
     ]
    }
   ],
   "source": [
    "string = \"To change the overall look of your document. To change the look available in the gallery\"\n",
    "import string as str_module\n",
    "translator = str.maketrans('', '', str_module.punctuation)\n",
    "cleaned_string = string.translate(translator)\n",
    "words = cleaned_string.lower().split()\n",
    "word_count = {}\n",
    "for word in words:\n",
    "    if word in word_count:\n",
    "        word_count[word] += 1\n",
    "    else:\n",
    "        word_count[word] = 1\n",
    "\n",
    "\n",
    "for word, count in word_count.items():\n",
    "    print(f\"'{word}': {count}\")\n"
   ]
  },
  {
   "cell_type": "code",
   "execution_count": 28,
   "id": "49647445-91ef-4b91-b9fc-52e400e10587",
   "metadata": {},
   "outputs": [],
   "source": [
    "#ques 2 - Write a Python program to remove a newline in Python\n",
    "        #String = \"\\nBest \\nDeeptech \\nPython \\nTraining\\n\""
   ]
  },
  {
   "cell_type": "code",
   "execution_count": 30,
   "id": "8e1c8de3-e94c-4c81-aff7-586bcb0292a0",
   "metadata": {},
   "outputs": [
    {
     "name": "stdout",
     "output_type": "stream",
     "text": [
      "Cleaned string: Best  Deeptech  Python  Training\n"
     ]
    }
   ],
   "source": [
    "string = \"\\nBest \\nDeeptech \\nPython \\nTraining\\n\"\n",
    "cleaned_string = string.replace('\\n', ' ').strip()\n",
    "print(\"Cleaned string:\", cleaned_string)\n"
   ]
  },
  {
   "cell_type": "code",
   "execution_count": 32,
   "id": "5a15d945-6540-4cb9-b0cb-1353399f9d3d",
   "metadata": {},
   "outputs": [],
   "source": [
    "#ques 3 - Write a Python program to reverse words in a string\n",
    "          #String = “Deeptech Python Training”"
   ]
  },
  {
   "cell_type": "code",
   "execution_count": 34,
   "id": "b1b47568-5c8a-431d-8ca8-aa837a6bc9b6",
   "metadata": {},
   "outputs": [
    {
     "name": "stdout",
     "output_type": "stream",
     "text": [
      "Reversed words string: Training Python Deeptech\n"
     ]
    }
   ],
   "source": [
    "string = \"Deeptech Python Training\"\n",
    "words = string.split()\n",
    "reversed_words = words[::-1]\n",
    "reversed_string = ' '.join(reversed_words)\n",
    "\n",
    "print(\"Reversed words string:\", reversed_string)\n"
   ]
  },
  {
   "cell_type": "code",
   "execution_count": 36,
   "id": "7ec8a4ef-6d4b-42db-8b68-1a672132dfeb",
   "metadata": {},
   "outputs": [],
   "source": [
    "#ques 4 - Write a Python program to count and display the vowels of a given text\n",
    "          #String=”Welcome to python Training\""
   ]
  },
  {
   "cell_type": "code",
   "execution_count": 38,
   "id": "6905f730-9b13-4e80-bbf3-a11b39aba501",
   "metadata": {},
   "outputs": [
    {
     "name": "stdout",
     "output_type": "stream",
     "text": [
      "Vowel 'a' occurs 1 times\n",
      "Vowel 'e' occurs 2 times\n",
      "Vowel 'i' occurs 2 times\n",
      "Vowel 'o' occurs 3 times\n"
     ]
    }
   ],
   "source": [
    "text = \"Welcome to python Training\"\n",
    "vowels = \"aeiouAEIOU\"\n",
    "vowel_count = {vowel: 0 for vowel in vowels}\n",
    "for char in text:\n",
    "    if char in vowel_count:\n",
    "        vowel_count[char] += 1\n",
    "for vowel, count in vowel_count.items():\n",
    "    if count > 0:\n",
    "        print(f\"Vowel '{vowel}' occurs {count} times\")\n"
   ]
  },
  {
   "cell_type": "code",
   "execution_count": 46,
   "id": "1898685a-462c-4d63-bcf3-36e7ebf492ec",
   "metadata": {},
   "outputs": [],
   "source": [
    "#part 3 \n",
    "#ques 1 - Write a Python program to Count all letters, digits, and special symbols from the given string\n",
    "          #Input = “P@#yn26at^&i5ve”\n",
    "        #Output: Chars = 8 Digits = 2 Symbol = 3"
   ]
  },
  {
   "cell_type": "code",
   "execution_count": 54,
   "id": "ba12b84c-a349-458f-9239-3266d0df2736",
   "metadata": {},
   "outputs": [
    {
     "name": "stdout",
     "output_type": "stream",
     "text": [
      "Chars = 8\n",
      "Digits = 3\n",
      "Symbols = 4\n"
     ]
    }
   ],
   "source": [
    "def count_characters(text):\n",
    "    # Initialize counters\n",
    "    letter_count = 0\n",
    "    digit_count = 0\n",
    "    symbol_count = 0\n",
    "    \n",
    "    # Define character sets for classification\n",
    "    import string\n",
    "    all_letters = string.ascii_letters\n",
    "    all_digits = string.digits\n",
    "    \n",
    "    # Iterate over each character in the text\n",
    "    for char in text:\n",
    "        if char in all_letters:\n",
    "            letter_count += 1\n",
    "        elif char in all_digits:\n",
    "            digit_count += 1\n",
    "        elif not char.isspace():  # Consider non-whitespace and non-alphanumeric as symbols\n",
    "            symbol_count += 1\n",
    "    \n",
    "    # Return counts\n",
    "    return letter_count, digit_count, symbol_count\n",
    "\n",
    "# Given input\n",
    "input_text = \"P@#yn26at^&i5ve\"\n",
    "\n",
    "# Process the input\n",
    "letters, digits, symbols = count_characters(input_text)\n",
    "\n",
    "# Display the results\n",
    "print(f\"Chars = {letters}\")\n",
    "print(f\"Digits = {digits}\")\n",
    "print(f\"Symbols = {symbols}\")\n",
    "\n"
   ]
  },
  {
   "cell_type": "code",
   "execution_count": 50,
   "id": "4a178f97-68f5-48c5-bdc7-9933802bbc1a",
   "metadata": {},
   "outputs": [],
   "source": [
    "#ques 2 - Write a Python program to remove duplicate characters of a given string.\n",
    "          #Input = “String and String Function”\n",
    "          #Output: String and Function"
   ]
  },
  {
   "cell_type": "code",
   "execution_count": 60,
   "id": "cd635236-667c-450e-934b-9090051f38fa",
   "metadata": {},
   "outputs": [
    {
     "name": "stdout",
     "output_type": "stream",
     "text": [
      "Output: String and Function\n"
     ]
    }
   ],
   "source": [
    "def remove_duplicate_words(text):\n",
    "    words = text.split()\n",
    "    seen = set()\n",
    "    result = []\n",
    "    for word in words:\n",
    "        if word not in seen:\n",
    "            seen.add(word)\n",
    "            result.append(word)\n",
    "    return ' '.join(result)\n",
    "input_text = \"String and String Function\"\n",
    "\n",
    "output_text = remove_duplicate_words(input_text)\n",
    "\n",
    "print(\"Output:\", output_text)\n"
   ]
  },
  {
   "cell_type": "code",
   "execution_count": 58,
   "id": "eaa291ed-9065-4a48-93eb-0e6e14af5a90",
   "metadata": {},
   "outputs": [],
   "source": [
    "#ques3 - Write a Python program to count Uppercase, Lowercase, specialn character and numeric values in a given string\n",
    "          #Input = “Hell0 W0rld ! 123 * # welcome to pYtHoN”\n",
    "#Output:\n",
    "#UpperCase : 5\n",
    "#LowerCase : 18\n",
    "#NumberCase : 5\n",
    "#SpecialCase : 11\n",
    "\n"
   ]
  },
  {
   "cell_type": "code",
   "execution_count": 62,
   "id": "196b8b5a-fa24-4262-9c18-772ad466c07b",
   "metadata": {},
   "outputs": [
    {
     "name": "stdout",
     "output_type": "stream",
     "text": [
      "UpperCase : 5\n",
      "LowerCase : 18\n",
      "NumberCase : 5\n",
      "SpecialCase : 3\n"
     ]
    }
   ],
   "source": [
    "def count_characters(text):\n",
    "    # Initialize counters\n",
    "    uppercase_count = 0\n",
    "    lowercase_count = 0\n",
    "    numeric_count = 0\n",
    "    special_count = 0\n",
    "    \n",
    "    # Define character sets for classification\n",
    "    import string\n",
    "    all_uppercase = string.ascii_uppercase\n",
    "    all_lowercase = string.ascii_lowercase\n",
    "    all_digits = string.digits\n",
    "\n",
    "    # Iterate over each character in the text\n",
    "    for char in text:\n",
    "        if char in all_uppercase:\n",
    "            uppercase_count += 1\n",
    "        elif char in all_lowercase:\n",
    "            lowercase_count += 1\n",
    "        elif char in all_digits:\n",
    "            numeric_count += 1\n",
    "        elif not char.isspace():  # Consider non-whitespace and non-alphanumeric as special characters\n",
    "            special_count += 1\n",
    "    \n",
    "    # Return counts\n",
    "    return uppercase_count, lowercase_count, numeric_count, special_count\n",
    "\n",
    "# Given input\n",
    "input_text = \"Hell0 W0rld ! 123 * # welcome to pYtHoN\"\n",
    "\n",
    "# Process the input\n",
    "uppercase, lowercase, numeric, special = count_characters(input_text)\n",
    "\n",
    "# Display the results\n",
    "print(f\"UpperCase : {uppercase}\")\n",
    "print(f\"LowerCase : {lowercase}\")\n",
    "print(f\"NumberCase : {numeric}\")\n",
    "print(f\"SpecialCase : {special}\")\n"
   ]
  },
  {
   "cell_type": "code",
   "execution_count": 64,
   "id": "a6b5e3ac-1396-4347-95ce-63b5bf90394e",
   "metadata": {},
   "outputs": [],
   "source": [
    "#ques4 - Write a Python Count vowels in a string input= “Welcome to Python Assignment”\n",
    "         #Output: Total vowels are: 8"
   ]
  },
  {
   "cell_type": "code",
   "execution_count": 66,
   "id": "2a0ca08b-e6a5-49eb-96bb-85d132030f94",
   "metadata": {},
   "outputs": [
    {
     "name": "stdout",
     "output_type": "stream",
     "text": [
      "Total vowels are: 8\n"
     ]
    }
   ],
   "source": [
    "def count_vowels(input_string):\n",
    "    vowels = 'aeiouAEIOU'\n",
    "    count = sum(1 for char in input_string if char in vowels)\n",
    "    return count\n",
    "input_string = \"Welcome to Python Assignment\"\n",
    "vowel_count = count_vowels(input_string)\n",
    "print(f\"Total vowels are: {vowel_count}\")"
   ]
  },
  {
   "cell_type": "code",
   "execution_count": null,
   "id": "39b71757-f5f2-4277-a1c7-073fbcd14612",
   "metadata": {},
   "outputs": [],
   "source": []
  }
 ],
 "metadata": {
  "kernelspec": {
   "display_name": "Python 3 (ipykernel)",
   "language": "python",
   "name": "python3"
  },
  "language_info": {
   "codemirror_mode": {
    "name": "ipython",
    "version": 3
   },
   "file_extension": ".py",
   "mimetype": "text/x-python",
   "name": "python",
   "nbconvert_exporter": "python",
   "pygments_lexer": "ipython3",
   "version": "3.12.4"
  }
 },
 "nbformat": 4,
 "nbformat_minor": 5
}
