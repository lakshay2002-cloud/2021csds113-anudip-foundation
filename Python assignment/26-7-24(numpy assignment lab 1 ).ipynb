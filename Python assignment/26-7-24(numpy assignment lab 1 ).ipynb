{
 "cells": [
  {
   "cell_type": "code",
   "execution_count": 3,
   "id": "d02dd10c-f20e-407a-b8ca-0a800d91a102",
   "metadata": {},
   "outputs": [
    {
     "name": "stdout",
     "output_type": "stream",
     "text": [
      "[1 2 3 4 5]\n"
     ]
    }
   ],
   "source": [
    "# numpy assignment \n",
    "# ques 1 \n",
    "# convert the below list into numpy array then display the array \n",
    "#input :- my_list=[1,2,3,4,5]\n",
    "\n",
    "import numpy as np\n",
    "my_list = [1, 2, 3, 4, 5]\n",
    "my_array = np.array(my_list)\n",
    "\n",
    "print(my_array)\n"
   ]
  },
  {
   "cell_type": "code",
   "execution_count": 5,
   "id": "932326b4-79e5-4ada-b568-444d4900c41c",
   "metadata": {},
   "outputs": [
    {
     "name": "stdout",
     "output_type": "stream",
     "text": [
      "Array: [1 2 3 4 5]\n",
      "First element: 1\n",
      "Last element: 5\n",
      "Array after multiplying by 2: [ 2  4  6  8 10]\n"
     ]
    }
   ],
   "source": [
    " #ques 2 \n",
    "# convert the below list into a numpy array then display the array then display the first and last index and then multiply each \n",
    "#element by 2 and dispaly the result \n",
    "# input list :- my_list =[1,2,3,4,5]\n",
    "\n",
    "import numpy as np\n",
    "my_list = [1, 2, 3, 4, 5]\n",
    "my_array = np.array(my_list)\n",
    "print(\"Array:\", my_array)\n",
    "print(\"First element:\", my_array[0])\n",
    "print(\"Last element:\", my_array[-1])\n",
    "multiplied_array = my_array * 2\n",
    "\n",
    "print(\"Array after multiplying by 2:\", multiplied_array)\n"
   ]
  },
  {
   "cell_type": "code",
   "execution_count": 27,
   "id": "7bb51e72-aaa3-4c8e-bf41-935fbe4e537a",
   "metadata": {},
   "outputs": [
    {
     "name": "stdout",
     "output_type": "stream",
     "text": [
      "an array of 10 zeroes:\n",
      "[0 0 0 0 0 0 0 0 0 0]\n",
      "an array of 10 ones :\n",
      "[1 1 1 1 1 1 1 1 1 1]\n",
      "an array of 10 fives :\n",
      "[5 5 5 5 5 5 5 5 5 5]\n"
     ]
    }
   ],
   "source": [
    "#ques 3 \n",
    "# write a numpy program to create an array of 10 zeros, 10 ones , and 10 fives \n",
    "\n",
    "\n",
    "import numpy as np\n",
    "zeros_array = np.zeros(10, dtype=int)\n",
    "ones_array = np.ones(10, dtype=int)\n",
    "fives_array = np.full(10, 5, dtype=int)\n",
    "print(\"an array of 10 zeroes:\")\n",
    "print(zeros_array)\n",
    "print(\"an array of 10 ones :\")\n",
    "print(ones_array)\n",
    "print(\"an array of 10 fives :\")\n",
    "print(fives_array)"
   ]
  },
  {
   "cell_type": "code",
   "execution_count": 29,
   "id": "c9d4ca5a-a684-4ed9-bad0-18b109a961a9",
   "metadata": {},
   "outputs": [
    {
     "name": "stdout",
     "output_type": "stream",
     "text": [
      "3x3 Matrix with values from 2 to 10:\n",
      "[[ 2  3  4]\n",
      " [ 5  6  7]\n",
      " [ 8  9 10]]\n"
     ]
    }
   ],
   "source": [
    "#ques 4 \n",
    "# write a numPy program to create a 3x3 matrix with valuees ranging from 2 to 10 \n",
    "\n",
    "import numpy as np\n",
    "matrix = np.arange(2, 11).reshape(3, 3)\n",
    "print(\"3x3 Matrix with values from 2 to 10:\")\n",
    "print(matrix)\n"
   ]
  },
  {
   "cell_type": "code",
   "execution_count": null,
   "id": "b3a2b60a-3f07-4fc3-be5a-e846bc7f24a9",
   "metadata": {},
   "outputs": [],
   "source": []
  }
 ],
 "metadata": {
  "kernelspec": {
   "display_name": "Python 3 (ipykernel)",
   "language": "python",
   "name": "python3"
  },
  "language_info": {
   "codemirror_mode": {
    "name": "ipython",
    "version": 3
   },
   "file_extension": ".py",
   "mimetype": "text/x-python",
   "name": "python",
   "nbconvert_exporter": "python",
   "pygments_lexer": "ipython3",
   "version": "3.12.4"
  }
 },
 "nbformat": 4,
 "nbformat_minor": 5
}
