{
 "cells": [
  {
   "cell_type": "code",
   "execution_count": 21,
   "id": "12b39d11-ba72-4c3d-9389-31a512286ae8",
   "metadata": {},
   "outputs": [
    {
     "name": "stdout",
     "output_type": "stream",
     "text": [
      "Hot days (temperature > 35°C):\n",
      "days  temperature\n",
      " 3   36.8°C\n",
      " 6   38.7°C\n",
      " 10   37.2°C\n",
      "\n",
      "Cold days (temperature < 5°C):\n"
     ]
    }
   ],
   "source": [
    "# lab 2 \n",
    "# ques 1 \n",
    "'''suppose u have a data set containing daily temperature reading s for a city and u want to identify the days with extreme temperature conditions . find days where the temperature either exceeds 35degree C  (hot day) or dropped below 5 degree celsius (cold days)\n",
    "\n",
    "input :\n",
    "temperature =np.array ([32.5,.34.2,36.8,29.3,31.0,38.7,23.1,18.5,22.8,37.2])'''\n",
    "\n",
    "import numpy as np\n",
    "temperature = np.array([32.5, 34.2, 36.8, 29.3, 31.0, 38.7, 23.1, 18.5, 22.8, 37.2])\n",
    "hot_days = temperature > 35\n",
    "cold_days = temperature < 5\n",
    "\n",
    "print(\"Hot days (temperature > 35°C):\")\n",
    "print(\"days  temperature\")\n",
    "for i, hot in enumerate(hot_days):\n",
    "    if hot:\n",
    "        print(f\" {i+1}   {temperature[i]}°C\")\n",
    "\n",
    "print(\"\\nCold days (temperature < 5°C):\")\n",
    "\n",
    "for i, cold in enumerate(cold_days):\n",
    "    if cold:\n",
    "        print(f\" {i+1}   {temperature[i]}°C\")\n",
    "hot_days_indices = np.where(hot_days)[0]\n",
    "cold_days_indices = np.where(cold_days)[0]\n"
   ]
  },
  {
   "cell_type": "code",
   "execution_count": 37,
   "id": "894cc8a3-727e-4aef-a788-19464b4ab12d",
   "metadata": {},
   "outputs": [
    {
     "name": "stdout",
     "output_type": "stream",
     "text": [
      "Quarterly 1 Sales (in thousand of dollars )\n",
      " [120 135 140]\n",
      "Quarterly 2 Sales (in thousand of dollars )\n",
      " [165 180 155]\n",
      "Quarterly 3 Sales (in thousand of dollars )\n",
      " [168 190 205]\n",
      "Quarterly 4 Sales (in thousand of dollars )\n",
      " [198 210 225]\n"
     ]
    }
   ],
   "source": [
    "#ques 2 \n",
    "''' suppose you have a dataset containing monthly sales data for a company and u want to split this data into a quaterly reports for ananlysis and \n",
    "reporting purpose \n",
    "input :\n",
    "monthly_sales=np.array([120,135,140,165,180,155,168,190,205,198,210,225])'''\n",
    "import numpy as np\n",
    "monthly_sales = np.array([120, 135, 140, 165, 180, 155, 168, 190, 205, 198, 210, 225])\n",
    "quarterly_sales = monthly_sales.reshape(4, 3)\n",
    "\n",
    "# Print quarterly sales data and totals\n",
    "\n",
    "for i, sales in enumerate(quarterly_sales, start=1):\n",
    "    print(\"Quarterly\" ,i,\"Sales (in thousand of dollars )\")\n",
    "    print(f\" {sales}\")\n",
    "\n",
    "\n",
    "\n",
    "\n"
   ]
  },
  {
   "cell_type": "code",
   "execution_count": 47,
   "id": "611a542f-b3f6-4619-a9b7-78770ff633fa",
   "metadata": {},
   "outputs": [
    {
     "name": "stdout",
     "output_type": "stream",
     "text": [
      "Active customers (Last Purchase <= 30 Days ago): \n",
      "[101 102 103 104 105]\n",
      "Inactive customers (Last Purchase <= 30 Days ago):\n",
      "[106 107 108 109 110]\n"
     ]
    }
   ],
   "source": [
    "# ques 3 \n",
    "'''Suppose you have a dataset containing customer data, and you want to split this data\n",
    "into two groups: one group for customers who made a purchase in the last 30 days and\n",
    "another group for customers who haven't made a purchase in the last 30 days.\n",
    "Input:\n",
    "customer_ids = np.array([101, 102, 103, 104, 105, 106, 107, 108, 109, 110])\n",
    "last_purchase_days_ago = np.array([5, 15, 20, 25, 30, 35, 40, 45, 50, 55])'''\n",
    "\n",
    "import numpy as np\n",
    "customer_ids = np.array([101, 102, 103, 104, 105, 106, 107, 108, 109, 110])\n",
    "last_purchase_days_ago = np.array([5, 15, 20, 25, 30, 35, 40, 45, 50, 55])\n",
    "recent_purchase_mask = last_purchase_days_ago <= 30\n",
    "customers_recent = customer_ids[recent_purchase_mask]\n",
    "customers_not_recent = customer_ids[~recent_purchase_mask]\n",
    "print(\"Active customers (Last Purchase <= 30 Days ago): \")\n",
    "print(customers_recent)\n",
    "\n",
    "print(\"Inactive customers (Last Purchase <= 30 Days ago):\")\n",
    "print(customers_not_recent)\n"
   ]
  },
  {
   "cell_type": "code",
   "execution_count": 49,
   "id": "57b7ae54-2f39-487e-9987-899bd9dd5ca4",
   "metadata": {},
   "outputs": [
    {
     "name": "stdout",
     "output_type": "stream",
     "text": [
      "Combined Employee Dataset:\n",
      "[[101 'John Doe' 'Full-Time' 55000]\n",
      " [102 'Jane Smith' 'Full-Time' 60000]\n",
      " [103 'Mike Johnson' 'Full-Time' 52000]\n",
      " [201 'Alice Brown' 'Part-Time' 25000]\n",
      " [202 'Bob Wilson' 'Part-Time' 28000]\n",
      " [203 'Emily Davis' 'Part-Time' 22000]]\n"
     ]
    }
   ],
   "source": [
    "#ques 4 \n",
    "'''Suppose you have two sets of employee data—one containing information about\n",
    "full-time employees and another containing information about part-time employees. You\n",
    "want to combine this data to create a comprehensive employee dataset for HR analysis.\n",
    "Input:\n",
    "# Employee data for full-time employees\n",
    "full_time_employees = np.array([\n",
    "[101, 'John Doe', 'Full-Time', 55000],\n",
    "[102, 'Jane Smith', 'Full-Time', 60000],\n",
    "[103, 'Mike Johnson', 'Full-Time', 52000]\n",
    "])\n",
    "# Employee data for part-time employees\n",
    "part_time_employees = np.array([\n",
    "[201, 'Alice Brown', 'Part-Time', 25000],\n",
    "[202, 'Bob Wilson', 'Part-Time', 28000],\n",
    "[203, 'Emily Davis', 'Part-Time', 22000]\n",
    "])'''\n",
    "\n",
    "\n",
    "import numpy as np\n",
    "full_time_employees = np.array([\n",
    "    [101, 'John Doe', 'Full-Time', 55000],\n",
    "    [102, 'Jane Smith', 'Full-Time', 60000],\n",
    "    [103, 'Mike Johnson', 'Full-Time', 52000]\n",
    "], dtype=object)\n",
    "\n",
    "part_time_employees = np.array([\n",
    "    [201, 'Alice Brown', 'Part-Time', 25000],\n",
    "    [202, 'Bob Wilson', 'Part-Time', 28000],\n",
    "    [203, 'Emily Davis', 'Part-Time', 22000]\n",
    "], dtype=object)\n",
    "\n",
    "combined_employees = np.vstack((full_time_employees, part_time_employees))\n",
    "\n",
    "print(\"Combined Employee Dataset:\")\n",
    "print(combined_employees)\n"
   ]
  },
  {
   "cell_type": "code",
   "execution_count": 59,
   "id": "f6284245-f2a6-48fe-a46d-6195b71c11af",
   "metadata": {},
   "outputs": [
    {
     "name": "stdout",
     "output_type": "stream",
     "text": [
      "Means of each NumPy array:\n",
      "5.5\n",
      "30.6\n",
      "34.0\n"
     ]
    }
   ],
   "source": [
    "# ques 5 \n",
    "'''How to find the mean of every NumPy array in the given list?\n",
    "Input:\n",
    "list = [\n",
    "np.array([3, 2, 8, 9]),\n",
    "np.array([4, 12, 34, 25, 78]),\n",
    "np.array([23, 12, 67])\n",
    "]'''\n",
    "\n",
    "import numpy as np\n",
    "arrays_list = [\n",
    "    np.array([3, 2, 8, 9]),\n",
    "    np.array([4, 12, 34, 25, 78]),\n",
    "    np.array([23, 12, 67])\n",
    "]\n",
    "\n",
    "means = [np.mean(arr) for arr in arrays_list]\n",
    "\n",
    "# Print the results\n",
    "print(\"Means of each NumPy array:\")\n",
    "for i, mean in enumerate(means):\n",
    "    print(mean)\n"
   ]
  },
  {
   "cell_type": "code",
   "execution_count": 63,
   "id": "ece08993-ada8-4741-9717-418aee2ee875",
   "metadata": {},
   "outputs": [
    {
     "name": "stdout",
     "output_type": "stream",
     "text": [
      "the original array \n",
      "[1 2 3 4 5 6 7]\n",
      "The median of the array is: 4.0\n"
     ]
    }
   ],
   "source": [
    "#ques 6 \n",
    "'''Compute the median of the flattened NumPy array\n",
    "Input: x_odd = np.array([1, 2, 3, 4, 5, 6, 7])'''\n",
    "\n",
    "import numpy as np\n",
    "\n",
    "x_odd = np.array([1, 2, 3, 4, 5, 6, 7])\n",
    "\n",
    "median_value = np.median(x_odd)\n",
    "print(\"the original array \")\n",
    "print(x_odd)\n",
    "# Print the result\n",
    "print(f\"The median of the array is: {median_value}\")\n"
   ]
  },
  {
   "cell_type": "code",
   "execution_count": 65,
   "id": "f1bc4ee2-ee74-4d6c-8f5c-0c53b45c1979",
   "metadata": {},
   "outputs": [
    {
     "name": "stdout",
     "output_type": "stream",
     "text": [
      "The standard deviation of the array is: 12.58\n"
     ]
    }
   ],
   "source": [
    "#ques 7 \n",
    "'''Compute the standard deviation of the NumPy array\n",
    "Input: arr = [20, 2, 7, 1, 34]'''\n",
    "\n",
    "import numpy as np\n",
    "arr = np.array([20, 2, 7, 1, 34])\n",
    "\n",
    "std_dev = np.std(arr)\n",
    "\n",
    "# Print the result\n",
    "print(f\"The standard deviation of the array is: {std_dev:.2f}\")\n"
   ]
  },
  {
   "cell_type": "code",
   "execution_count": null,
   "id": "fd84259d-0d93-4183-b172-25c385cfec89",
   "metadata": {},
   "outputs": [],
   "source": []
  }
 ],
 "metadata": {
  "kernelspec": {
   "display_name": "Python 3 (ipykernel)",
   "language": "python",
   "name": "python3"
  },
  "language_info": {
   "codemirror_mode": {
    "name": "ipython",
    "version": 3
   },
   "file_extension": ".py",
   "mimetype": "text/x-python",
   "name": "python",
   "nbconvert_exporter": "python",
   "pygments_lexer": "ipython3",
   "version": "3.12.4"
  }
 },
 "nbformat": 4,
 "nbformat_minor": 5
}
