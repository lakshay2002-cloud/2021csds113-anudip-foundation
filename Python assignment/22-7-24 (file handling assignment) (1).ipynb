{
 "cells": [
  {
   "cell_type": "code",
   "execution_count": 7,
   "id": "dac114fa-b778-4315-b475-d98eecf8d9e5",
   "metadata": {},
   "outputs": [],
   "source": [
    "# file handling assignment \n",
    "# ques 5 \n",
    "#write a program to count the occurence of word 'INDIA' in a text file India.txt  using file handling in python \n",
    "file=open('India.txt', 'w') \n",
    "file.write(''' India is a country in South Asia. It is the seventh-largest country by land area, \n",
    "the second-most populous country, and the most populous democracy in the world. \n",
    "The name India is derived from the river Indus. The name itself is a testament to \n",
    "the rich history and culture that India possesses. Throughout centuries, India has \n",
    "been a major hub for trade and commerce. Many empires have risen and fallen in India, \n",
    "each leaving a unique imprint on the country's culture and heritage. Today, India is \n",
    "known for its diversity, with numerous languages, religions, and traditions coexisting \n",
    "harmoniously. The word INDIA symbolizes unity in diversity, a melting pot of various \n",
    "ethnicities and cultures. \n",
    "\n",
    "India's contribution to the world includes yoga, Ayurveda, and a rich tradition of \n",
    "arts and sciences. The historical landmarks in India, such as the Taj Mahal, attract \n",
    "millions of tourists every year. The word INDIA invokes a sense of pride and belonging \n",
    "in the hearts of its people.''')\n",
    "file.close()"
   ]
  },
  {
   "cell_type": "code",
   "execution_count": 13,
   "id": "681f4591-a21a-4ff6-9734-5616f0a9f034",
   "metadata": {},
   "outputs": [
    {
     "name": "stdout",
     "output_type": "stream",
     "text": [
      "The word 'INDIA' occurs 10 times in the file 'India.txt'.\n"
     ]
    }
   ],
   "source": [
    "file= open('India.txt', 'r') \n",
    "content = file.read()\n",
    "content_upper = content.upper()\n",
    "word_count = content_upper.count('INDIA')\n",
    "print(f\"The word 'INDIA' occurs {word_count} times in the file 'India.txt'.\")\n",
    "file.close()\n"
   ]
  },
  {
   "cell_type": "code",
   "execution_count": 17,
   "id": "989e379f-9ade-47f8-b393-472c3aadcbdc",
   "metadata": {},
   "outputs": [],
   "source": [
    "#ques 6 \n",
    "# write a program to count and display the lines starting with \"T\" in a text file story.txt \n",
    "file=open('story.txt', 'w') \n",
    "file.write('''  There once was a village nestled in the hills.\n",
    "The people of the village were known for their hospitality.\n",
    "Timothy, a young boy from the village, loved to explore the hills.\n",
    "Together with his friends, he would climb to the top of the tallest hill.\n",
    "They would sit there and watch the sunset, sharing stories and dreams.\n",
    "Through the seasons, the village thrived, and its traditions were passed down.\n",
    "The bond between the villagers grew stronger with each passing year.\n",
    "To this day, the stories of Timothy and his friends are told to the children.\n",
    "Their adventures continue to inspire new generations.''')\n",
    "file.close()"
   ]
  },
  {
   "cell_type": "code",
   "execution_count": 27,
   "id": "8e34a958-2e53-4217-814e-92aedaece8ca",
   "metadata": {},
   "outputs": [
    {
     "name": "stdout",
     "output_type": "stream",
     "text": [
      "The number of lines starting with 'T' is: 8\n"
     ]
    }
   ],
   "source": [
    "file= open('story.txt', 'r') \n",
    "lines = file.readlines()\n",
    "t_line_count = 0\n",
    "for line in lines:\n",
    "    if line.startswith('T'):\n",
    "        t_line_count += 1\n",
    "print(f\"The number of lines starting with 'T' is: {t_line_count}\")\n",
    "file.close()\n"
   ]
  },
  {
   "cell_type": "code",
   "execution_count": 29,
   "id": "4a30d2ab-8644-4a30-b777-851608c7d81b",
   "metadata": {},
   "outputs": [],
   "source": [
    "#ques 7 \n",
    "# write a program to count and display the number of vowels and consonants in a file \"MYfile.txt\"\n",
    "# Create and write to the file Myfile.txt\n",
    "file= open('Myfile.txt', 'w') \n",
    "file.write('''This is a sample text file.\n",
    "It contains some random content.\n",
    "Python is a powerful programming language.\n",
    "File handling is an important aspect of programming.\n",
    "We are counting vowels and consonants.''')\n",
    "file.close()\n"
   ]
  },
  {
   "cell_type": "code",
   "execution_count": 33,
   "id": "a579c71d-c6b9-4dbe-be43-a0075c5e40a5",
   "metadata": {},
   "outputs": [
    {
     "name": "stdout",
     "output_type": "stream",
     "text": [
      "Number of vowels: 58\n",
      "Number of consonants: 102\n"
     ]
    }
   ],
   "source": [
    "file=open('Myfile.txt', 'r')\n",
    "content = file.read()\n",
    "vowel_count = 0\n",
    "consonant_count = 0\n",
    "vowels = \"AEIOUaeiou\"\n",
    "for char in content:\n",
    "    if char.isalpha():  # Check if the character is a letter\n",
    "        if char in vowels:\n",
    "            vowel_count += 1\n",
    "        else:\n",
    "            consonant_count += 1\n",
    "print(f\"Number of vowels: {vowel_count}\")\n",
    "print(f\"Number of consonants: {consonant_count}\")\n",
    "file.close()\n"
   ]
  },
  {
   "cell_type": "code",
   "execution_count": 35,
   "id": "5c9aef43-d3a1-4d89-a127-0183f71cf5fc",
   "metadata": {},
   "outputs": [],
   "source": [
    "#ques8 \n",
    "# write a program to count and display number of words starting with\"i\" in a file Word.txt \n",
    "file=open('Word.txt', 'w')\n",
    "file.write('''This is a text file named Word.txt.\n",
    "It contains some example content for demonstration purposes.\n",
    "Python is great for file handling tasks.\n",
    "You can use this file to practice reading and writing files.\n",
    "Make sure to explore more about file operations in Python.''')\n",
    "file.close()\n"
   ]
  },
  {
   "cell_type": "code",
   "execution_count": 43,
   "id": "f72ec631-414b-4323-95d1-42b6c048c854",
   "metadata": {},
   "outputs": [
    {
     "name": "stdout",
     "output_type": "stream",
     "text": [
      "Number of words starting with 'i': 4\n"
     ]
    }
   ],
   "source": [
    "file=open('Word.txt', 'r') \n",
    "content = file.read()\n",
    "words = content.split()\n",
    "i_word_count = 0\n",
    "for word in words:\n",
    "    if word.lower().startswith('i'):\n",
    "        i_word_count += 1\n",
    "print(f\"Number of words starting with 'i': {i_word_count}\")\n",
    "file.close()\n"
   ]
  },
  {
   "cell_type": "code",
   "execution_count": 55,
   "id": "94b45ce7-6c3b-4b52-9fc9-cd1af95092e5",
   "metadata": {},
   "outputs": [],
   "source": [
    "# ques 9 \n",
    "# write a program to display the lines having more than five words in a text file Notes.txt \n",
    "file=open('Notes.txt', 'w')\n",
    "file.write('''This is a text file named Word.txt.\n",
    "hello\n",
    "It contains some example content for demonstration purposes.\n",
    "Python is great for file handling tasks.\n",
    "You can use this file to practice reading and writing files.\n",
    "Make sure to explore more about file operations in Python.''')\n",
    "file.close()"
   ]
  },
  {
   "cell_type": "code",
   "execution_count": 57,
   "id": "d48b19ee-e370-4995-a0bb-3c413f90dd0f",
   "metadata": {},
   "outputs": [
    {
     "name": "stdout",
     "output_type": "stream",
     "text": [
      "This is a text file named Word.txt.\n",
      "It contains some example content for demonstration purposes.\n",
      "Python is great for file handling tasks.\n",
      "You can use this file to practice reading and writing files.\n",
      "Make sure to explore more about file operations in Python.\n"
     ]
    }
   ],
   "source": [
    "file=open('Notes.txt', 'r') \n",
    "lines = file.readlines()\n",
    "for line in lines:\n",
    "    words = line.split()\n",
    "    if len(words) > 5:\n",
    "        print(line.strip())\n"
   ]
  },
  {
   "cell_type": "code",
   "execution_count": 59,
   "id": "f8eab326-12fd-443c-964b-9d542cd32baa",
   "metadata": {},
   "outputs": [],
   "source": [
    "# ques 10 \n",
    "#write a program to create a binary file \"Stu.dat\" and enter students rollno. Name and marks till the user wants "
   ]
  },
  {
   "cell_type": "code",
   "execution_count": 101,
   "id": "c157582e-11a9-4c46-a755-1a30e7d10863",
   "metadata": {},
   "outputs": [
    {
     "name": "stdin",
     "output_type": "stream",
     "text": [
      "Enter student roll number:  1\n",
      "Enter student name:  aaradhya\n",
      "enter marks  88\n",
      "Do you want to add another student? (yes/no):  66\n"
     ]
    }
   ],
   "source": [
    "import pickle\n",
    "students = []\n",
    "while True:\n",
    "    rollno = int(input(\"Enter student roll number: \"))\n",
    "    name = input(\"Enter student name: \")\n",
    "    marks=int(input(\"enter marks \"))\n",
    "    students.append((rollno, name,marks))\n",
    "    \n",
    "    more = input(\"Do you want to add another student? (yes/no): \")\n",
    "    if more != 'yes':\n",
    "        break\n",
    "file=open(\"Stu.dat\", 'wb')\n",
    "pickle.dump(students, file)\n",
    "file.close()"
   ]
  },
  {
   "cell_type": "code",
   "execution_count": 103,
   "id": "8b12a6b0-a262-4c14-abbb-d27c39d09d64",
   "metadata": {},
   "outputs": [
    {
     "name": "stdout",
     "output_type": "stream",
     "text": [
      "Roll Number: 1 Name:  aaradhya Marks: 88\n"
     ]
    }
   ],
   "source": [
    "#ques 11\n",
    "# write a program to read a binary file \"Stu.dat\" and display the record of students having marks greater than 81 \n",
    "import pickle\n",
    "file=open(\"Stu.dat\", 'rb')\n",
    "students = pickle.load(file)\n",
    "for rollno, name, marks in students:\n",
    "    if marks > 81:\n",
    "        print(\"Roll Number:\" ,rollno, \"Name: \",name,\"Marks:\",marks)\n",
    "file.close()\n"
   ]
  },
  {
   "cell_type": "code",
   "execution_count": null,
   "id": "a49a3d78-ae1a-4985-a16a-f831710b570c",
   "metadata": {},
   "outputs": [],
   "source": []
  }
 ],
 "metadata": {
  "kernelspec": {
   "display_name": "Python 3 (ipykernel)",
   "language": "python",
   "name": "python3"
  },
  "language_info": {
   "codemirror_mode": {
    "name": "ipython",
    "version": 3
   },
   "file_extension": ".py",
   "mimetype": "text/x-python",
   "name": "python",
   "nbconvert_exporter": "python",
   "pygments_lexer": "ipython3",
   "version": "3.12.4"
  }
 },
 "nbformat": 4,
 "nbformat_minor": 5
}
